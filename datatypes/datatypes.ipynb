{
 "cells": [
  {
   "cell_type": "markdown",
   "metadata": {},
   "source": [
    "# DATA TYPES"
   ]
  },
  {
   "cell_type": "markdown",
   "metadata": {},
   "source": [
    "## Menentukan Type Variable\n",
    "* Type variable dapat ditentukan dengan sintax `type(var)`"
   ]
  },
  {
   "cell_type": "code",
   "execution_count": 5,
   "metadata": {},
   "outputs": [],
   "source": [
    "nama = \"Ranggo Pato\"\n",
    "umur = 25\n",
    "agama = \"Islam\"\n",
    "hoby = ['Basketball', 'Sepak Bola', 'Catur']"
   ]
  },
  {
   "cell_type": "code",
   "execution_count": 17,
   "metadata": {},
   "outputs": [
    {
     "data": {
      "text/plain": [
       "str"
      ]
     },
     "execution_count": 17,
     "metadata": {},
     "output_type": "execute_result"
    }
   ],
   "source": [
    "type(nama)"
   ]
  },
  {
   "cell_type": "code",
   "execution_count": 7,
   "metadata": {},
   "outputs": [
    {
     "data": {
      "text/plain": [
       "list"
      ]
     },
     "execution_count": 7,
     "metadata": {},
     "output_type": "execute_result"
    }
   ],
   "source": [
    "type(hoby)"
   ]
  },
  {
   "cell_type": "code",
   "execution_count": 18,
   "metadata": {},
   "outputs": [
    {
     "data": {
      "text/plain": [
       "tuple"
      ]
     },
     "execution_count": 18,
     "metadata": {},
     "output_type": "execute_result"
    }
   ],
   "source": [
    "type((type(hoby),type(nama)))"
   ]
  },
  {
   "cell_type": "markdown",
   "metadata": {},
   "source": [
    "## Built-in Data Types di python\n",
    "* Numeric – int, float, complex, bool.\n",
    "* Sequence – str, list, tuple\n",
    "* Set dan dictionary\n",
    "* None - NoneType\n"
   ]
  },
  {
   "cell_type": "markdown",
   "metadata": {},
   "source": [
    "## Pengenalan Numeric\n",
    "* int (integers)\n",
    "* bool (true, false)\n",
    "* float (real value)\n",
    "* Complex \n"
   ]
  },
  {
   "cell_type": "code",
   "execution_count": 12,
   "metadata": {},
   "outputs": [
    {
     "name": "stdout",
     "output_type": "stream",
     "text": [
      "3 <class 'int'>\n",
      "3.14 <class 'float'>\n",
      "True <class 'bool'>\n",
      "(3+6j) <class 'complex'>\n"
     ]
    }
   ],
   "source": [
    "contoh_int = 3\n",
    "contoh_float = 3.14\n",
    "contoh_bool = True\n",
    "contoh_complex = 3 + 6j\n",
    "\n",
    "print(contoh_int, type(contoh_int))\n",
    "print(contoh_float,type(contoh_float))\n",
    "print(contoh_bool, type(contoh_bool))\n",
    "print(contoh_complex, type(contoh_complex))"
   ]
  },
  {
   "cell_type": "markdown",
   "metadata": {},
   "source": [
    "## Pengenalan Sequence\n",
    "* Salah satu ciri sequence adalah collection tipe data atau urutan itu adalah iterable,\n",
    "* Kita dapat merujuk kita item di dalam sequence dengan menggunakan nomor indeks, missal s[0] dan s[1].\n",
    "* Ada 3 jenis Sequence di python :\n",
    "1. String – str , ex : “Welcome to Kenapa Coding Channel”\n",
    "2. List – list, ex : [1,2,3,4,5,”enam”]\n",
    "3. Tupple – tuple, ex : (1,2,3,”empat”)\n",
    "\n",
    "\n"
   ]
  },
  {
   "cell_type": "code",
   "execution_count": 11,
   "metadata": {},
   "outputs": [
    {
     "name": "stdout",
     "output_type": "stream",
     "text": [
      "Welcome to Kenapa Coding Channel <class 'str'>\n",
      "[1, 2, 3, 4, 5, 'enam'] <class 'list'>\n",
      "(1, 2, 3, 'empat') <class 'tuple'>\n"
     ]
    }
   ],
   "source": [
    "contoh_string = \"Welcome to Kenapa Coding Channel\"\n",
    "contoh_list = [1,2,3,4,5,'enam']\n",
    "contoh_tuple = (1,2,3,\"empat\")\n",
    "\n",
    "print(contoh_string, type(contoh_string))\n",
    "print(contoh_list, type(contoh_list))\n",
    "print(contoh_tuple, type(contoh_tuple))"
   ]
  },
  {
   "cell_type": "markdown",
   "metadata": {},
   "source": [
    "## Pengenalan Set dan Dictionary\n",
    "* Sets adalah kumpulan dari elemen yang unique.\n",
    "* Dictionary adalah mapping type yang terdiri dari key, value.\n",
    "\n",
    "\n"
   ]
  },
  {
   "cell_type": "code",
   "execution_count": 20,
   "metadata": {},
   "outputs": [
    {
     "name": "stdout",
     "output_type": "stream",
     "text": [
      "{3.14, 0.000123, 'Python', 1991, 22} <class 'set'>\n",
      "{1: 'one', 2: 'two', 3: 'three'} <class 'dict'>\n"
     ]
    }
   ],
   "source": [
    "contoh_set = {1991, \"Python\", 3.14, 3*10^8, 1.23E-4}\n",
    "contoh_dict = {1:'one', 2:'two', 3:'three'}\n",
    "\n",
    "print(contoh_set, type(contoh_set))\n",
    "print(contoh_dict, type(contoh_dict))"
   ]
  },
  {
   "cell_type": "markdown",
   "metadata": {},
   "source": [
    "#### sets hanya bisa menyimpan immutable object, list tidak bisa di store di set"
   ]
  },
  {
   "cell_type": "code",
   "execution_count": 23,
   "metadata": {},
   "outputs": [
    {
     "ename": "TypeError",
     "evalue": "unhashable type: 'list'",
     "output_type": "error",
     "traceback": [
      "\u001b[1;31m---------------------------------------------------------------------------\u001b[0m",
      "\u001b[1;31mTypeError\u001b[0m                                 Traceback (most recent call last)",
      "\u001b[1;32md:\\Programming\\Python\\pytutor\\datatypes.ipynb Cell 15\u001b[0m line \u001b[0;36m1\n\u001b[1;32m----> <a href='vscode-notebook-cell:/d%3A/Programming/Python/pytutor/datatypes.ipynb#X25sZmlsZQ%3D%3D?line=0'>1</a>\u001b[0m contoh_salah_set \u001b[39m=\u001b[39m {[\u001b[39m1\u001b[39m,\u001b[39m2\u001b[39m,\u001b[39m3\u001b[39m,\u001b[39m4\u001b[39m], \u001b[39m\"\u001b[39m\u001b[39mcontoh\u001b[39m\u001b[39m\"\u001b[39m, \u001b[39m290\u001b[39m}\n",
      "\u001b[1;31mTypeError\u001b[0m: unhashable type: 'list'"
     ]
    }
   ],
   "source": [
    "contoh_salah_set = {[1,2,3,4], \"contoh\", 290}"
   ]
  },
  {
   "cell_type": "code",
   "execution_count": null,
   "metadata": {},
   "outputs": [],
   "source": []
  }
 ],
 "metadata": {
  "kernelspec": {
   "display_name": "Python 3",
   "language": "python",
   "name": "python3"
  },
  "language_info": {
   "codemirror_mode": {
    "name": "ipython",
    "version": 3
   },
   "file_extension": ".py",
   "mimetype": "text/x-python",
   "name": "python",
   "nbconvert_exporter": "python",
   "pygments_lexer": "ipython3",
   "version": "3.11.0"
  }
 },
 "nbformat": 4,
 "nbformat_minor": 2
}
