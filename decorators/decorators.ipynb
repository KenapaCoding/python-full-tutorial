{
  "nbformat": 4,
  "nbformat_minor": 0,
  "metadata": {
    "colab": {
      "provenance": []
    },
    "kernelspec": {
      "name": "python3",
      "display_name": "Python 3"
    },
    "language_info": {
      "name": "python"
    }
  },
  "cells": [
    {
      "cell_type": "markdown",
      "source": [
        "# Decorators di Python"
      ],
      "metadata": {
        "id": "opCaaQaR9_8k"
      }
    },
    {
      "cell_type": "markdown",
      "source": [
        "Decorators adalah alat atau cara yang sangat powerfull di python sendiri karena dengan decorator kita dapat melakukan modifikasi behaviour dari sebuah function atau class.\n",
        "\n",
        "Function sendiri di python bisa disebut sebagai first order/class object. Artinya function dapat menjadi argumen function lain. selain itu function juga dapat di definisikan didalam function, atau disebut nested function."
      ],
      "metadata": {
        "id": "50xE_bfw-UUI"
      }
    },
    {
      "cell_type": "code",
      "source": [
        "def hello():\n",
        "  print(\"hello there\")"
      ],
      "metadata": {
        "id": "NvOfjfze12if"
      },
      "execution_count": null,
      "outputs": []
    },
    {
      "cell_type": "code",
      "source": [
        "menyapa = hello"
      ],
      "metadata": {
        "id": "vHnVYrX36PMZ"
      },
      "execution_count": null,
      "outputs": []
    },
    {
      "cell_type": "code",
      "source": [
        "menyapa()"
      ],
      "metadata": {
        "colab": {
          "base_uri": "https://localhost:8080/"
        },
        "id": "-XPJUpjT6PIV",
        "outputId": "83d224b6-1210-41c8-eb89-26b226c0552e"
      },
      "execution_count": null,
      "outputs": [
        {
          "output_type": "stream",
          "name": "stdout",
          "text": [
            "hello there\n"
          ]
        }
      ]
    },
    {
      "cell_type": "code",
      "source": [
        "menyapa\n"
      ],
      "metadata": {
        "colab": {
          "base_uri": "https://localhost:8080/"
        },
        "id": "LrQt299j6PFV",
        "outputId": "b1265c90-6cb9-46cf-8d0e-2631f9efb923"
      },
      "execution_count": null,
      "outputs": [
        {
          "output_type": "execute_result",
          "data": {
            "text/plain": [
              "<function __main__.hello()>"
            ]
          },
          "metadata": {},
          "execution_count": 43
        }
      ]
    },
    {
      "cell_type": "code",
      "source": [
        "def greet_decoration(fungsi):\n",
        "  print(\"ini fungsi greet\")\n",
        "  def hai():\n",
        "    print(\"ini fungsi hai\")\n",
        "    fungsi()\n",
        "    print(\"ini execute setelah argumen fungsi\")\n",
        "  return hai"
      ],
      "metadata": {
        "id": "0etnD1I812fq"
      },
      "execution_count": null,
      "outputs": []
    },
    {
      "cell_type": "code",
      "source": [
        "\n",
        "def fungsi_biasa_decorated():\n",
        "  print(\"ini fungsi biasa yang akan di dekorasi\")"
      ],
      "metadata": {
        "id": "9iFscRHG1xn3"
      },
      "execution_count": null,
      "outputs": []
    },
    {
      "cell_type": "code",
      "source": [
        "fungsi_biasa_decorated()"
      ],
      "metadata": {
        "colab": {
          "base_uri": "https://localhost:8080/"
        },
        "id": "bQ0Akq1P1xff",
        "outputId": "5fcae349-e011-4dcd-d85b-04aa167da4b0"
      },
      "execution_count": null,
      "outputs": [
        {
          "output_type": "stream",
          "name": "stdout",
          "text": [
            "ini fungsi biasa yang akan di dekorasi\n"
          ]
        }
      ]
    },
    {
      "cell_type": "code",
      "source": [],
      "metadata": {
        "id": "sR_Zlwdr1xRX"
      },
      "execution_count": null,
      "outputs": []
    }
  ]
}