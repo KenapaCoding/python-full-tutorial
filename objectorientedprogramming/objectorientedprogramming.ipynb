{
  "cells": [
    {
      "cell_type": "markdown",
      "metadata": {
        "id": "XirZjqT7_5Ta"
      },
      "source": [
        "# OBJECT ORIENTED PROGRAMMING"
      ]
    },
    {
      "cell_type": "markdown",
      "metadata": {
        "id": "ocutx6GK_5Tb"
      },
      "source": [
        "## KONSEP OOP\n",
        "* (OOPs) merupakan pemrograman yang menggunakan  objects dan class yang bertujuan untuk mengimplementasikan entitas seperti inheritance, polymorphisms, encapsulation, dll.\n",
        "* Konsep utama OOP adalah untuk mengikat data dan fungsi-fungsi yang bekerja di dalamnya menjadi satu kesatuan.\n",
        "* Sederhananya konsep OOP ini menjadikan object sebagai center dari program, biasanya language yang tidak menggunakan konsep OOP hanya menggunakan object sebatas representasi data."
      ]
    },
    {
      "cell_type": "markdown",
      "metadata": {
        "id": "hszoRDSO_5Tc"
      },
      "source": [
        "## Object dan Class\n",
        "* Class adalah blueprint atau template yang mendefinisikan data dan perilaku suatu tipe atau bisa disebut kumpulan attributes dan methods.\n",
        "* Sedangkan Object dapat dianggap sebagai turunan dari class."
      ]
    },
    {
      "cell_type": "code",
      "execution_count": null,
      "metadata": {
        "id": "Mlfxe2bi_6vL"
      },
      "outputs": [],
      "source": [
        "# name, os, baterai, gpu\n",
        "phone = {'name': \"Samsung s23\", 'OS': 'Android', 'baterai': '5000 mAh', 'GPU':'Adreno 740'}\n",
        "phone2 = {'name': \"iPhone 14 Pro\", 'OS': 'iOS 16', 'baterai': '4323 mAh', 'GPU':'Apple GPU'}"
      ]
    },
    {
      "cell_type": "code",
      "execution_count": null,
      "metadata": {
        "id": "-w11zput_6s3"
      },
      "outputs": [],
      "source": [
        "# class\n",
        "class Phone:\n",
        "  # class attribute\n",
        "  sim_card = \"dual sim card\"\n",
        "  def __init__(self, name, os,baterai, gpu):\n",
        "    #instance attribute\n",
        "    self.name = name\n",
        "    self.os = os\n",
        "    self.baterai = baterai\n",
        "    self.gpu = gpu\n"
      ]
    },
    {
      "cell_type": "code",
      "execution_count": null,
      "metadata": {
        "id": "9Yl92ewU_6p_"
      },
      "outputs": [],
      "source": [
        "# object/instance\n",
        "samsung23ultra = Phone('Samsung s23','Android','5000 mAh', 'Adreno 740')\n",
        "iPhone14 = Phone(\"iPhone 14 Pro\",  'iOS 16',  '4323 mAh','Apple GPU')"
      ]
    },
    {
      "cell_type": "code",
      "execution_count": null,
      "metadata": {
        "colab": {
          "base_uri": "https://localhost:8080/"
        },
        "id": "1QbYmitp_6nJ",
        "outputId": "70aa157a-c010-4734-ef4e-49c33a098e6a"
      },
      "outputs": [
        {
          "name": "stdout",
          "output_type": "stream",
          "text": [
            "Samsung s23 Android dual sim card\n"
          ]
        }
      ],
      "source": [
        "print(samsung23ultra.name, samsung23ultra.os, samsung23ultra.sim_card )"
      ]
    },
    {
      "cell_type": "code",
      "execution_count": null,
      "metadata": {
        "colab": {
          "base_uri": "https://localhost:8080/",
          "height": 175
        },
        "id": "G3sSTUrF_6kT",
        "outputId": "dfdf49e5-27b7-4ef2-c5e9-449f25b0b26a"
      },
      "outputs": [
        {
          "ename": "AttributeError",
          "evalue": "ignored",
          "output_type": "error",
          "traceback": [
            "\u001b[0;31m---------------------------------------------------------------------------\u001b[0m",
            "\u001b[0;31mAttributeError\u001b[0m                            Traceback (most recent call last)",
            "\u001b[0;32m<ipython-input-21-4ba9fd9d9152>\u001b[0m in \u001b[0;36m<cell line: 1>\u001b[0;34m()\u001b[0m\n\u001b[0;32m----> 1\u001b[0;31m \u001b[0mprint\u001b[0m\u001b[0;34m(\u001b[0m\u001b[0mPhone\u001b[0m\u001b[0;34m.\u001b[0m\u001b[0mname\u001b[0m\u001b[0;34m)\u001b[0m\u001b[0;34m\u001b[0m\u001b[0;34m\u001b[0m\u001b[0m\n\u001b[0m",
            "\u001b[0;31mAttributeError\u001b[0m: type object 'Phone' has no attribute 'name'"
          ]
        }
      ],
      "source": [
        "print(Phone.name)"
      ]
    },
    {
      "cell_type": "markdown",
      "metadata": {
        "id": "aSJQ9v-BmtvB"
      },
      "source": [
        "## Function atau method\n",
        "\n",
        "\n",
        "\n"
      ]
    },
    {
      "cell_type": "code",
      "execution_count": null,
      "metadata": {
        "id": "zHz8x7p5_6hV"
      },
      "outputs": [],
      "source": [
        "# class\n",
        "class Phone:\n",
        "  # class attribute\n",
        "  sim_card = \"dual sim card\"\n",
        "  def __init__(self, name, os,baterai, gpu):\n",
        "    #instance attribute\n",
        "    self.name = name\n",
        "    self.os = os\n",
        "    self.baterai = baterai\n",
        "    self.gpu = gpu\n",
        "  # instance method\n",
        "  def lowbat(self, percent_battery):\n",
        "    print(f'baterai {self.name} anda tinggal {percent_battery} %')\n",
        "  def __str__(self):\n",
        "    informasi = f'hp = {self.name}, os = {self.os}, baterai = {self.baterai}'\n",
        "    return informasi\n",
        "  def __eq__(self, other):\n",
        "    return self.name == other.name and self.baterai == other.baterai\n",
        "  @staticmethod\n",
        "  def good_camera(mp):\n",
        "    if mp >= 12:\n",
        "      print('camera anda bagus')\n",
        "    else:\n",
        "      print('camera anda kurang bagus')\n",
        "\n"
      ]
    },
    {
      "cell_type": "code",
      "execution_count": null,
      "metadata": {
        "id": "xIX2JhItsAq0"
      },
      "outputs": [],
      "source": [
        "samsung23ultra = Phone('Samsung s23','Android','5000 mAh', 'Adreno 740')\n",
        "samsung23 = Phone('Samsung s23','Android','5000 mAh', 'Adreno 740')\n",
        "iPhone14 = Phone(\"iPhone 14 Pro\",  'iOS 16',  '4323 mAh','Apple GPU')"
      ]
    },
    {
      "cell_type": "code",
      "execution_count": null,
      "metadata": {
        "colab": {
          "base_uri": "https://localhost:8080/"
        },
        "id": "Py9_dko3GFZe",
        "outputId": "eba0f554-6d96-44d6-88fb-a5b10dbede4e"
      },
      "outputs": [
        {
          "name": "stdout",
          "output_type": "stream",
          "text": [
            "baterai Samsung s23 anda tinggal 7 %\n"
          ]
        }
      ],
      "source": [
        "# instance (self) method\n",
        "samsung23.lowbat(7)"
      ]
    },
    {
      "cell_type": "code",
      "execution_count": null,
      "metadata": {
        "colab": {
          "base_uri": "https://localhost:8080/"
        },
        "id": "2_1-39r2zT_7",
        "outputId": "9632abcf-fc6e-46b5-f4ba-8e1ff53db34c"
      },
      "outputs": [
        {
          "data": {
            "text/plain": [
              "False"
            ]
          },
          "execution_count": 12,
          "metadata": {},
          "output_type": "execute_result"
        }
      ],
      "source": [
        "# eq __ method\n",
        "samsung23 == samsung23ultra"
      ]
    },
    {
      "cell_type": "code",
      "execution_count": null,
      "metadata": {
        "id": "gRExWnwfsBvC"
      },
      "outputs": [],
      "source": [
        "# str __ method\n",
        "print(samsung23)"
      ]
    },
    {
      "cell_type": "code",
      "execution_count": null,
      "metadata": {
        "colab": {
          "base_uri": "https://localhost:8080/"
        },
        "id": "Y-Iu3iWQsBsA",
        "outputId": "978e12bc-bd6d-46f2-b3f2-6f9a3105a537"
      },
      "outputs": [
        {
          "name": "stdout",
          "output_type": "stream",
          "text": [
            "camera anda bagus\n"
          ]
        }
      ],
      "source": [
        "# static method\n",
        "iPhone14.good_camera(13)"
      ]
    },
    {
      "cell_type": "markdown",
      "metadata": {
        "id": "sZJGGU4H_5Tc"
      },
      "source": [
        "## Inheritance\n",
        "* Disebut juga sebagai turunan, artinya suatu class dapat inherit/mewarisi properti dari class lain.\n",
        "* Class yang menerima properties biasa disebut child atau derived class sedangkan yang class asal biasa disebut parent atau base class.\n"
      ]
    },
    {
      "cell_type": "code",
      "execution_count": null,
      "metadata": {
        "id": "ZplJauPLGQGC"
      },
      "outputs": [],
      "source": [
        "# class\n",
        "class Phone:\n",
        "  # class attribute\n",
        "  sim_card = \"dual sim card\"\n",
        "  def __init__(self, name, os,baterai, gpu):\n",
        "    #instance attribute\n",
        "    self.name = name\n",
        "    self.os = os\n",
        "    self.baterai = baterai\n",
        "    self.gpu = gpu\n",
        "  # instance method\n",
        "  def lowbat(self, percent_battery):\n",
        "    if percent_battery <= 10:\n",
        "      print(f'baterai {self.name} anda tinggal {percent_battery} %')\n",
        "    else:\n",
        "      print(f'baterai {self.name} {percent_battery} %')\n",
        "  def __str__(self):\n",
        "    informasi = f'hp = {self.name}, os = {self.os}, baterai = {self.baterai}'\n",
        "    return informasi\n",
        "  def __eq__(self, other):\n",
        "    return self.name == other.name and self.baterai == other.baterai\n",
        "  @staticmethod\n",
        "  def good_camera(mp):\n",
        "    if mp >= 12:\n",
        "      print('camera anda bagus')\n",
        "    else:\n",
        "      print('camera anda kurang bagus')"
      ]
    },
    {
      "cell_type": "code",
      "execution_count": null,
      "metadata": {
        "id": "9V7geqW6GP6z"
      },
      "outputs": [],
      "source": [
        "# class Oppo inherit ke class phone\n",
        "class Oppo(Phone):\n",
        "  def __init__(self,name, os,baterai, gpu, camera):\n",
        "    super().__init__(name,os,baterai,gpu)\n",
        "    self.camera = camera\n",
        "\n",
        "  def calling(self):\n",
        "    print(f'hp {self.name} anda sedang dalam panggilan')\n",
        "\n",
        "  def lowbat(self):\n",
        "    print(f'hp anda lowbat')"
      ]
    },
    {
      "cell_type": "code",
      "execution_count": null,
      "metadata": {
        "id": "-eEaPG9RGqd6"
      },
      "outputs": [],
      "source": [
        "A5 = Oppo('Oppo_A5','Android','4500 mAh', 'Adreno 500', 20)"
      ]
    },
    {
      "cell_type": "code",
      "execution_count": null,
      "metadata": {
        "colab": {
          "base_uri": "https://localhost:8080/"
        },
        "id": "WzoV3MLYG1mf",
        "outputId": "18866850-acef-4286-a13e-0856e78bf76c"
      },
      "outputs": [
        {
          "name": "stdout",
          "output_type": "stream",
          "text": [
            "hp anda lowbat\n"
          ]
        }
      ],
      "source": [
        "A5.lowbat()"
      ]
    },
    {
      "cell_type": "code",
      "execution_count": null,
      "metadata": {
        "colab": {
          "base_uri": "https://localhost:8080/"
        },
        "id": "Agv7P217Huwy",
        "outputId": "eb689d15-1f71-4ddf-ae7e-350cb41f4109"
      },
      "outputs": [
        {
          "name": "stdout",
          "output_type": "stream",
          "text": [
            "hp Oppo_A5 anda sedang dalam panggilan\n"
          ]
        }
      ],
      "source": [
        "A5.calling()"
      ]
    },
    {
      "cell_type": "code",
      "execution_count": null,
      "metadata": {
        "colab": {
          "base_uri": "https://localhost:8080/"
        },
        "id": "GOyj3BhSbG7L",
        "outputId": "d29342a5-9267-4724-8132-cb5b2a2d6701"
      },
      "outputs": [
        {
          "name": "stdout",
          "output_type": "stream",
          "text": [
            "20\n"
          ]
        }
      ],
      "source": [
        "print(A5.camera)"
      ]
    },
    {
      "cell_type": "code",
      "execution_count": null,
      "metadata": {
        "id": "pSD3d355d5Zw"
      },
      "outputs": [],
      "source": [
        "samsung23 = Phone('Samsung s23','Android','5000 mAh', 'Adreno 740')"
      ]
    },
    {
      "cell_type": "markdown",
      "metadata": {
        "id": "68tz1zSr_5Tc"
      },
      "source": [
        "## Polymorphism\n",
        "\n",
        "\n",
        "\n"
      ]
    },
    {
      "cell_type": "code",
      "execution_count": null,
      "metadata": {
        "id": "HNNbyvHQicFS"
      },
      "outputs": [],
      "source": [
        "# class\n",
        "class Phone:\n",
        "  # class attribute\n",
        "  sim_card = \"dual sim card\"\n",
        "  def __init__(self, name, os,baterai, gpu):\n",
        "    #instance attribute\n",
        "    self.name = name\n",
        "    self.os = os\n",
        "    self.baterai = baterai\n",
        "    self.gpu = gpu\n",
        "  # instance method\n",
        "  def lowbat(self, percent_battery):\n",
        "    if percent_battery <= 10:\n",
        "      print(f'baterai {self.name} anda tinggal {percent_battery} %')\n",
        "    else:\n",
        "      print(f'baterai {self.name} {percent_battery} %')\n",
        "  def __str__(self):\n",
        "    informasi = f'hp = {self.name}, os = {self.os}, baterai = {self.baterai}'\n",
        "    return informasi\n",
        "  def __eq__(self, other):\n",
        "    return self.name == other.name and self.baterai == other.baterai\n",
        "  @staticmethod\n",
        "  def good_camera(mp):\n",
        "    if mp >= 12:\n",
        "      print('camera anda bagus')\n",
        "    else:\n",
        "      print('camera anda kurang bagus')"
      ]
    },
    {
      "cell_type": "code",
      "execution_count": null,
      "metadata": {
        "id": "ZZ4rffSSicCS"
      },
      "outputs": [],
      "source": [
        "# class Oppo inherit ke class phone\n",
        "class Oppo(Phone):\n",
        "  def __init__(self,name, os,baterai, gpu, camera):\n",
        "    super().__init__(name,os,baterai,gpu)\n",
        "    self.camera = camera\n",
        "\n",
        "  def calling(self):\n",
        "    print(f'hp {self.name} anda sedang dalam panggilan')\n",
        "\n",
        "  def lowbat(self, percent_battery):\n",
        "    print(f'hp anda lowbat')"
      ]
    },
    {
      "cell_type": "code",
      "execution_count": null,
      "metadata": {
        "id": "j-vYFUicib_G"
      },
      "outputs": [],
      "source": [
        "class Samsung(Phone):\n",
        "  def calling(self):\n",
        "    print(f'Your phone is calling')\n",
        "\n"
      ]
    },
    {
      "cell_type": "code",
      "execution_count": null,
      "metadata": {
        "id": "DzzPJqaSibsx"
      },
      "outputs": [],
      "source": [
        "A5 = Oppo('Oppo_A5','Android','4500 mAh', 'Adreno 500', 20)\n",
        "s23 = Samsung('s23','Android','4500 mAh', 'Adreno 500')"
      ]
    },
    {
      "cell_type": "code",
      "execution_count": null,
      "metadata": {
        "id": "qAPW3_0fibpu"
      },
      "outputs": [],
      "source": [
        "def func(obj):\n",
        "  obj.calling()"
      ]
    },
    {
      "cell_type": "code",
      "execution_count": null,
      "metadata": {
        "colab": {
          "base_uri": "https://localhost:8080/"
        },
        "id": "QvSkgFhXibmj",
        "outputId": "9f4854bf-d6eb-4f16-9c18-4ed166982b56"
      },
      "outputs": [
        {
          "name": "stdout",
          "output_type": "stream",
          "text": [
            "hp Oppo_A5 anda sedang dalam panggilan\n"
          ]
        }
      ],
      "source": [
        "func(A5)"
      ]
    },
    {
      "cell_type": "code",
      "execution_count": null,
      "metadata": {
        "colab": {
          "base_uri": "https://localhost:8080/"
        },
        "id": "lz5lPQB7ibhP",
        "outputId": "e58e24db-f6d9-4891-cd19-320320b571f0"
      },
      "outputs": [
        {
          "name": "stdout",
          "output_type": "stream",
          "text": [
            "Your phone is calling\n"
          ]
        }
      ],
      "source": [
        "func(s23)"
      ]
    },
    {
      "cell_type": "code",
      "execution_count": null,
      "metadata": {
        "id": "H0gJdnkgibYk"
      },
      "outputs": [],
      "source": [
        "list_phone = [Oppo('Oppo_A5','Android','4500 mAh', 'Adreno 500', 20), Samsung('s23','Android','4500 mAh', 'Adreno 500')]"
      ]
    },
    {
      "cell_type": "code",
      "execution_count": null,
      "metadata": {
        "colab": {
          "base_uri": "https://localhost:8080/"
        },
        "id": "F2hW6YuqlR5e",
        "outputId": "0f37d45c-8754-4695-f0a7-51674d11cdfa"
      },
      "outputs": [
        {
          "name": "stdout",
          "output_type": "stream",
          "text": [
            "hp anda lowbat\n",
            "baterai s23 17 %\n"
          ]
        }
      ],
      "source": [
        "for phone in list_phone:\n",
        "  phone.lowbat(17)"
      ]
    },
    {
      "cell_type": "markdown",
      "metadata": {
        "id": "COJwo9uL_5Tc"
      },
      "source": [
        "## Encapsulation dan Abstraction\n",
        "* Encapsulation singkatnya adalah pembatasan akses variable dan method secara langsung agar tidak terjadi ketidaksengajaan merubah data.\n",
        "* Biasanya di gunakan variable privat, jadi variable object hanya dapat dirubah dengan metode object tersebut.\n",
        "* Abstraction sederhananya adalah setiap object hanya expose high level mechanism method saja, jadi kalau misalkan kita menggunakan object kita tidak perlu tahu apa yang didalamnya.\n"
      ]
    },
    {
      "cell_type": "code",
      "execution_count": null,
      "metadata": {
        "id": "ZiiMrcgdwUR5"
      },
      "outputs": [],
      "source": [
        "# class\n",
        "class Phone:\n",
        "  # class attribute\n",
        "  sim_card = \"dual sim card\"\n",
        "  def __init__(self, name, os):\n",
        "    #instance attribute\n",
        "    self.name = name\n",
        "    self.os = os\n",
        "    #protected\n",
        "    self._baterai = 5000\n",
        "    #private\n",
        "    self.__gpu = \"Adreno 740\"\n",
        "\n",
        "  def get_gpu(self):\n",
        "    return self.__gpu\n",
        "\n",
        "  def set_gpu(self, gpu_name):\n",
        "    if self.os == 'iOS':\n",
        "      self.__gpu = 'Apple GPU'\n",
        "    elif 'Adreno' in gpu_name:\n",
        "      self.__gpu = 'Adreno 900'\n",
        "    else:\n",
        "      self.__gpu = 'Adreno 740'\n"
      ]
    },
    {
      "cell_type": "code",
      "execution_count": null,
      "metadata": {
        "id": "STBMrGX6wUOq"
      },
      "outputs": [],
      "source": [
        "HP = Phone('Samsung', 'iOS')"
      ]
    },
    {
      "cell_type": "code",
      "execution_count": null,
      "metadata": {
        "colab": {
          "base_uri": "https://localhost:8080/"
        },
        "id": "GH_6csTqwULk",
        "outputId": "15675c3d-a9d5-4568-e1b6-1c869768156b"
      },
      "outputs": [
        {
          "data": {
            "text/plain": [
              "5000"
            ]
          },
          "execution_count": 165,
          "metadata": {},
          "output_type": "execute_result"
        }
      ],
      "source": [
        "HP._baterai"
      ]
    },
    {
      "cell_type": "code",
      "execution_count": null,
      "metadata": {
        "colab": {
          "base_uri": "https://localhost:8080/",
          "height": 36
        },
        "id": "opTQq2DlwUIV",
        "outputId": "51709533-adf6-446a-fb59-8bc78b08cc76"
      },
      "outputs": [
        {
          "data": {
            "application/vnd.google.colaboratory.intrinsic+json": {
              "type": "string"
            },
            "text/plain": [
              "'Apple GPU'"
            ]
          },
          "execution_count": 175,
          "metadata": {},
          "output_type": "execute_result"
        }
      ],
      "source": [
        "HP.get_gpu()"
      ]
    },
    {
      "cell_type": "code",
      "execution_count": null,
      "metadata": {
        "id": "xdaP0O0QwUFS"
      },
      "outputs": [],
      "source": [
        "HP.set_gpu('Adreno')"
      ]
    },
    {
      "cell_type": "code",
      "execution_count": null,
      "metadata": {
        "id": "RHGrE-VGr7IN"
      },
      "outputs": [],
      "source": [
        "class Phone:\n",
        "  def __init__(self, name, os):\n",
        "    #instance attribute\n",
        "    self.name = name\n",
        "    self.os = os\n",
        "    #protected\n",
        "    self._baterai_mAh = 5500\n",
        "    #private\n",
        "    self.__gpu = 'Adreno 740'\n",
        "  def get_gpu(self):\n",
        "    return self.__gpu\n",
        "  def set_gpu(self, gpu):\n",
        "    self.__gpu = self.__gpu_name(gpu)\n",
        "  def __gpu_name(self, gpu):\n",
        "    if self.os == 'iOS':\n",
        "      return 'GPU apple'\n",
        "    elif 'Adreno' in gpu:\n",
        "      return gpu\n",
        "    return 'Adreno 740'"
      ]
    },
    {
      "cell_type": "code",
      "execution_count": null,
      "metadata": {
        "id": "H8gcuyrasXRG"
      },
      "outputs": [],
      "source": [
        "HP = Phone('iPhone', 'iOS')"
      ]
    },
    {
      "cell_type": "code",
      "execution_count": null,
      "metadata": {
        "colab": {
          "base_uri": "https://localhost:8080/",
          "height": 36
        },
        "id": "5aUqaWaksiB6",
        "outputId": "96d260db-ab74-4b8e-ab20-4134b88af408"
      },
      "outputs": [
        {
          "data": {
            "application/vnd.google.colaboratory.intrinsic+json": {
              "type": "string"
            },
            "text/plain": [
              "'Adreno 740'"
            ]
          },
          "execution_count": 141,
          "metadata": {},
          "output_type": "execute_result"
        }
      ],
      "source": [
        "HP.get_gpu()"
      ]
    },
    {
      "cell_type": "code",
      "execution_count": null,
      "metadata": {
        "id": "zRecSlsys2SR"
      },
      "outputs": [],
      "source": [
        "HP.set_gpu('Adreno 900')"
      ]
    },
    {
      "cell_type": "code",
      "execution_count": null,
      "metadata": {
        "id": "EYhNlZISwIvb"
      },
      "outputs": [],
      "source": []
    },
    {
      "cell_type": "code",
      "execution_count": null,
      "metadata": {
        "id": "uc1yn_zOyQsJ"
      },
      "outputs": [],
      "source": []
    }
  ],
  "metadata": {
    "colab": {
      "provenance": []
    },
    "kernelspec": {
      "display_name": "Python 3",
      "name": "python3"
    },
    "language_info": {
      "name": "python"
    }
  },
  "nbformat": 4,
  "nbformat_minor": 0
}
