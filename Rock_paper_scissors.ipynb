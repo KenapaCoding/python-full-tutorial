{
  "nbformat": 4,
  "nbformat_minor": 0,
  "metadata": {
    "colab": {
      "provenance": []
    },
    "kernelspec": {
      "name": "python3",
      "display_name": "Python 3"
    },
    "language_info": {
      "name": "python"
    }
  },
  "cells": [
    {
      "cell_type": "markdown",
      "source": [
        "# Challenge: Membuat Game Batu Gunting Kertas\n",
        "\n",
        "\n",
        "## Step by step\n",
        "\n",
        "### 1. user/player memilih antara batu, gunting, kertas\n",
        "### 2. computer memilih antara batu, gunting, kertas\n",
        "### 3. statement penentuan pemenang"
      ],
      "metadata": {
        "id": "hd9c6UQYv6zR"
      }
    },
    {
      "cell_type": "code",
      "source": [
        "import random"
      ],
      "metadata": {
        "id": "NDEVlBb-MG26"
      },
      "execution_count": null,
      "outputs": []
    },
    {
      "cell_type": "code",
      "source": [
        "pilihan = ['batu', 'gunting', 'kertas']"
      ],
      "metadata": {
        "id": "C6rcVlFrMG0A"
      },
      "execution_count": null,
      "outputs": []
    },
    {
      "cell_type": "code",
      "source": [
        "def pilihan_user(p):\n",
        "  pil_user = input(\"Masukkan pilihan anda (batu, gunting, kertas) : \")\n",
        "  while pil_user not in p:\n",
        "    pil_user = input(\"Masukkan pilihan anda (batu, gunting, kertas) : \")\n",
        "  print(f\"user memilih {pil_user}\")\n",
        "  return pil_user"
      ],
      "metadata": {
        "id": "x64qVVWpMGxK"
      },
      "execution_count": null,
      "outputs": []
    },
    {
      "cell_type": "code",
      "source": [
        "def pilihan_computer(p):\n",
        "  pil_computer = random.choice(pilihan)\n",
        "  print(f\"computer memilih {pil_computer}\")\n",
        "  return pil_computer"
      ],
      "metadata": {
        "id": "ULmFdfPFMGrh"
      },
      "execution_count": null,
      "outputs": []
    },
    {
      "cell_type": "code",
      "source": [
        "def penentuan_pemenang(user, computer):\n",
        "  if user == computer:\n",
        "    print(f\"keduanya memilih {user}. Permainan Seri \")\n",
        "  elif user == 'batu':\n",
        "    if computer == 'gunting':\n",
        "      print(\"Users win, batu menghantam gunting\")\n",
        "    else:\n",
        "      print(\"Computers, Kertas menggulung batu\")\n",
        "  elif user == 'gunting':\n",
        "    if computer == 'batu':\n",
        "      print(\"Computer win, batu menghantam gunting\")\n",
        "    else:\n",
        "      print(\"Users Win, Gunting memotong kertas\")\n",
        "  elif user == 'kertas':\n",
        "    if computer == 'gunting':\n",
        "      print(\"Computer win, Gunting memotong kertas\")\n",
        "    else:\n",
        "      print(\"Users Win, Kertas menggulung batu\")\n",
        "\n"
      ],
      "metadata": {
        "id": "xFKwQRwSMGiq"
      },
      "execution_count": null,
      "outputs": []
    },
    {
      "cell_type": "code",
      "source": [
        "while True:\n",
        "  pilihan = ['batu', 'gunting', 'kertas']\n",
        "\n",
        "  #user choice\n",
        "  user = pilihan_user(pilihan)\n",
        "  #computer choice\n",
        "  computer = pilihan_computer(pilihan)\n",
        "  #determine the winner\n",
        "  penentuan_pemenang(user=user, computer=computer)\n",
        "\n",
        "  main_lagi = input(\"Apakah anda ingin bermain lagi ? y/n :\")\n",
        "  if main_lagi.lower() != 'y':\n",
        "    break\n"
      ],
      "metadata": {
        "colab": {
          "base_uri": "https://localhost:8080/"
        },
        "id": "nFeEbFHoRtMF",
        "outputId": "6cb7f335-5851-43d4-9994-2b5b6fa48de9"
      },
      "execution_count": null,
      "outputs": [
        {
          "name": "stdout",
          "output_type": "stream",
          "text": [
            "Masukkan pilihan anda (batu, gunting, kertas) : batu\n",
            "user memilih batu\n",
            "computer memilih gunting\n",
            "Users win, batu menghantam gunting\n",
            "Apakah anda ingin bermain lagi ? y/n :y\n",
            "Masukkan pilihan anda (batu, gunting, kertas) : kertas\n",
            "user memilih kertas\n",
            "computer memilih batu\n",
            "Users Win, Kertas menggulung batu\n",
            "Apakah anda ingin bermain lagi ? y/n :no\n"
          ]
        }
      ]
    }
  ]
}