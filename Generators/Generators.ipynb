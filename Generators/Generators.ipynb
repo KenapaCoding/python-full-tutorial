{
  "nbformat": 4,
  "nbformat_minor": 0,
  "metadata": {
    "colab": {
      "provenance": []
    },
    "kernelspec": {
      "name": "python3",
      "display_name": "Python 3"
    },
    "language_info": {
      "name": "python"
    }
  },
  "cells": [
    {
      "cell_type": "markdown",
      "source": [
        "# Generator"
      ],
      "metadata": {
        "id": "UvSpVln876J5"
      }
    },
    {
      "cell_type": "markdown",
      "source": [
        "Generator di Python adalah fungsi yang mengembalikan iterator menggunakan Yield.\n",
        "\n",
        "Generator function digunakan untuk membuat function yang mengirim nilai yang nanti akan bisa diambil.\n",
        "\n",
        "Cara membuat generator adalah membuat function yang menggunakan yield untuk melakukan generate value bukan return. Jika bertemu function ini maka disebut generator function"
      ],
      "metadata": {
        "id": "8JOvKcuF6Z5A"
      }
    },
    {
      "cell_type": "code",
      "execution_count": null,
      "metadata": {
        "id": "XeIyLom0y12V"
      },
      "outputs": [],
      "source": [
        "def function_name():\n",
        "    yield statement"
      ]
    },
    {
      "cell_type": "code",
      "source": [
        "# membuat generator function\n",
        "# generator yield 1 pertama,\n",
        "# 2 setelahnya dan 3 setelah 2\n",
        "def first_gen():\n",
        "    yield 1\n",
        "    yield 2\n",
        "    yield 3\n"
      ],
      "metadata": {
        "id": "CuZycoGA8DKb"
      },
      "execution_count": null,
      "outputs": []
    },
    {
      "cell_type": "code",
      "source": [
        "def second_gen():\n",
        "  for i in range(1,4):\n",
        "    yield i"
      ],
      "metadata": {
        "id": "yL93cWiLDFuT"
      },
      "execution_count": null,
      "outputs": []
    },
    {
      "cell_type": "code",
      "source": [
        "second_gen()"
      ],
      "metadata": {
        "colab": {
          "base_uri": "https://localhost:8080/"
        },
        "id": "wPeL-7jiDfHo",
        "outputId": "ffe3988d-0c8f-4b2b-a152-e3ef43ddef1a"
      },
      "execution_count": null,
      "outputs": [
        {
          "output_type": "execute_result",
          "data": {
            "text/plain": [
              "<generator object second_gen at 0x7e1aa1372f10>"
            ]
          },
          "metadata": {},
          "execution_count": 30
        }
      ]
    },
    {
      "cell_type": "markdown",
      "source": [
        "Generator function ini akan menghasilkan iterator object yang nanti dapat di iterasi"
      ],
      "metadata": {
        "id": "xIQmU8Nr8lD8"
      }
    },
    {
      "cell_type": "code",
      "source": [
        "# melakukan iterasi dengan generator function\n",
        "for value in second_gen():\n",
        "    print(value)"
      ],
      "metadata": {
        "colab": {
          "base_uri": "https://localhost:8080/"
        },
        "id": "nXFe_Pw18C21",
        "outputId": "c166cee1-7874-42d0-a34b-37d4991acbd2"
      },
      "execution_count": null,
      "outputs": [
        {
          "output_type": "stream",
          "name": "stdout",
          "text": [
            "1\n",
            "2\n",
            "3\n"
          ]
        }
      ]
    },
    {
      "cell_type": "markdown",
      "source": [
        "Jika menggunakan function biasa"
      ],
      "metadata": {
        "id": "Gjxvq0Xj84mr"
      }
    },
    {
      "cell_type": "code",
      "source": [
        "def first_func():\n",
        "  return 1\n",
        "  return 2\n",
        "  return 3"
      ],
      "metadata": {
        "id": "nlVwwN9R84Z4"
      },
      "execution_count": null,
      "outputs": []
    },
    {
      "cell_type": "code",
      "source": [
        "first_func()"
      ],
      "metadata": {
        "colab": {
          "base_uri": "https://localhost:8080/"
        },
        "id": "9akmlTso8tqQ",
        "outputId": "8686d0f9-7829-4f4c-a35a-4570637cdc4a"
      },
      "execution_count": null,
      "outputs": [
        {
          "output_type": "execute_result",
          "data": {
            "text/plain": [
              "1"
            ]
          },
          "metadata": {},
          "execution_count": 32
        }
      ]
    },
    {
      "cell_type": "code",
      "source": [
        "for value in first_func():\n",
        "    print(value)"
      ],
      "metadata": {
        "id": "uFWSa5RdBsWi",
        "colab": {
          "base_uri": "https://localhost:8080/",
          "height": 197
        },
        "outputId": "a4be5809-7be0-42c1-9638-cf90689c5457"
      },
      "execution_count": null,
      "outputs": [
        {
          "output_type": "error",
          "ename": "TypeError",
          "evalue": "ignored",
          "traceback": [
            "\u001b[0;31m---------------------------------------------------------------------------\u001b[0m",
            "\u001b[0;31mTypeError\u001b[0m                                 Traceback (most recent call last)",
            "\u001b[0;32m<ipython-input-33-83e4b9f00f44>\u001b[0m in \u001b[0;36m<cell line: 1>\u001b[0;34m()\u001b[0m\n\u001b[0;32m----> 1\u001b[0;31m \u001b[0;32mfor\u001b[0m \u001b[0mvalue\u001b[0m \u001b[0;32min\u001b[0m \u001b[0mfirst_func\u001b[0m\u001b[0;34m(\u001b[0m\u001b[0;34m)\u001b[0m\u001b[0;34m:\u001b[0m\u001b[0;34m\u001b[0m\u001b[0;34m\u001b[0m\u001b[0m\n\u001b[0m\u001b[1;32m      2\u001b[0m     \u001b[0mprint\u001b[0m\u001b[0;34m(\u001b[0m\u001b[0mvalue\u001b[0m\u001b[0;34m)\u001b[0m\u001b[0;34m\u001b[0m\u001b[0;34m\u001b[0m\u001b[0m\n",
            "\u001b[0;31mTypeError\u001b[0m: 'int' object is not iterable"
          ]
        }
      ]
    },
    {
      "cell_type": "markdown",
      "source": [
        "karena first func ini hanya melakukan return 1, maka dia tidak iterable. untuk membuat iterable kita harus menyimpannya dalam variable, artinya kita akan menggunakan memory."
      ],
      "metadata": {
        "id": "vTcTWPV89bDq"
      }
    },
    {
      "cell_type": "code",
      "source": [
        "def second_func():\n",
        "  x = []\n",
        "  for i in range(1,4):\n",
        "    x.append(i)\n",
        "  return x"
      ],
      "metadata": {
        "id": "HNpP02az9apm"
      },
      "execution_count": null,
      "outputs": []
    },
    {
      "cell_type": "code",
      "source": [
        "for value in second_func():\n",
        "    print(value)"
      ],
      "metadata": {
        "colab": {
          "base_uri": "https://localhost:8080/"
        },
        "id": "GK06enVy9XvH",
        "outputId": "03c28ac8-7ce3-4634-a126-d3b94a72e182"
      },
      "execution_count": null,
      "outputs": [
        {
          "output_type": "stream",
          "name": "stdout",
          "text": [
            "1\n",
            "2\n",
            "3\n"
          ]
        }
      ]
    },
    {
      "cell_type": "markdown",
      "source": [
        "Sekarang kita dapat bayangkan apabila data nya besar atau sampai berjuta juta, atau misalkan kita ingin membaca files yang besar atau large maka tentu akan membuat memory overwhelmed."
      ],
      "metadata": {
        "id": "VDFRaF7eCNmT"
      }
    },
    {
      "cell_type": "code",
      "source": [],
      "metadata": {
        "id": "wEOQOoXPCNPg"
      },
      "execution_count": null,
      "outputs": []
    },
    {
      "cell_type": "markdown",
      "source": [
        "## Generator object dengan next"
      ],
      "metadata": {
        "id": "iaA14Nb2-_u_"
      }
    },
    {
      "cell_type": "markdown",
      "source": [
        "Seperti yang dibahas sebelumnya bahwa generator akan mereturn generator object yang dapat di iterasi. Generator object ini juga dapa dipanggil dengan next method. contoh nya :"
      ],
      "metadata": {
        "id": "i1pJmHQB_F74"
      }
    },
    {
      "cell_type": "code",
      "source": [
        "def gen_obj():\n",
        "    yield 1\n",
        "    yield 2\n",
        "    yield 3\n",
        "\n",
        "# x is a generator object\n",
        "x = gen_obj()\n",
        "\n",
        "# Iterating over the generator object using next\n",
        "\n",
        "# In Python 3, __next__()\n",
        "print(next(x))\n",
        "print(next(x))\n",
        "print(next(x))"
      ],
      "metadata": {
        "id": "Tll2R_8ECFox",
        "colab": {
          "base_uri": "https://localhost:8080/"
        },
        "outputId": "8a305b6b-a841-4f30-ba30-a1e342674bcd"
      },
      "execution_count": null,
      "outputs": [
        {
          "output_type": "stream",
          "name": "stdout",
          "text": [
            "1\n",
            "2\n",
            "3\n"
          ]
        }
      ]
    },
    {
      "cell_type": "markdown",
      "source": [
        "## Generator Expression"
      ],
      "metadata": {
        "id": "-hOXlkep_nUa"
      }
    },
    {
      "cell_type": "markdown",
      "source": [
        "Generator expression adalah cara lain untuk menulis function generator. Sebenarnya hanya menggunakan konsep list komprehension tetapi tanpa melakukan storing element ke dalam list memory."
      ],
      "metadata": {
        "id": "nf0kXEny_rd2"
      }
    },
    {
      "cell_type": "code",
      "source": [
        "(expression for item in iterable)"
      ],
      "metadata": {
        "id": "ZT3SStB3_qqY"
      },
      "execution_count": null,
      "outputs": []
    },
    {
      "cell_type": "code",
      "source": [
        "#contoh generator expression\n",
        "generator_exp = (i * 5 for i in range(5) if i%2==0)"
      ],
      "metadata": {
        "id": "0fNbVY2SAAq2"
      },
      "execution_count": null,
      "outputs": []
    },
    {
      "cell_type": "code",
      "source": [
        "generator_exp"
      ],
      "metadata": {
        "colab": {
          "base_uri": "https://localhost:8080/"
        },
        "id": "PSli71NREdOq",
        "outputId": "289b283a-9409-4de3-e975-dfc6f93549f0"
      },
      "execution_count": null,
      "outputs": [
        {
          "output_type": "execute_result",
          "data": {
            "text/plain": [
              "<generator object <genexpr> at 0x7e1aa13731b0>"
            ]
          },
          "metadata": {},
          "execution_count": 38
        }
      ]
    },
    {
      "cell_type": "code",
      "source": [
        "#melakukan iterasi pada generator expression\n",
        "for i in generator_exp:\n",
        "    print(i)"
      ],
      "metadata": {
        "colab": {
          "base_uri": "https://localhost:8080/"
        },
        "id": "4mGCeXpvAPJ_",
        "outputId": "4af55649-b386-47ce-8cef-f3d0b9808542"
      },
      "execution_count": null,
      "outputs": [
        {
          "output_type": "stream",
          "name": "stdout",
          "text": [
            "0\n",
            "10\n",
            "20\n"
          ]
        }
      ]
    },
    {
      "cell_type": "code",
      "source": [],
      "metadata": {
        "id": "J24vR7sbAPrj"
      },
      "execution_count": null,
      "outputs": []
    },
    {
      "cell_type": "code",
      "source": [],
      "metadata": {
        "id": "t_IqPohqEoKk"
      },
      "execution_count": null,
      "outputs": []
    }
  ]
}