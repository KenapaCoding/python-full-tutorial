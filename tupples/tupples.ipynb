{
 "cells": [
  {
   "cell_type": "markdown",
   "metadata": {},
   "source": [
    "# TUPPLES"
   ]
  },
  {
   "cell_type": "markdown",
   "metadata": {},
   "source": [
    "# Apa Itu Tupple?\n",
    "* Tupple sangat mirip dengan list tetapi tupple bersifat immutable atau tidak bisa diubah.\n",
    "* Tupple biasanya berupa sequence dari hal yang bisa diubah seperti hari hari dalam satu minggu, atau tanggal dalam kalender.\n",
    "* Tupple dibuat dengan sintax (  ) yang dipisahkan dengan koma disetiap item nya\n"
   ]
  },
  {
   "cell_type": "markdown",
   "metadata": {},
   "source": [
    "### Membuat tupple"
   ]
  },
  {
   "cell_type": "code",
   "execution_count": null,
   "metadata": {},
   "outputs": [],
   "source": [
    "# Create a tuple\n",
    "t = (1,2,3)"
   ]
  },
  {
   "cell_type": "markdown",
   "metadata": {},
   "source": [
    "### Tupple operation"
   ]
  },
  {
   "cell_type": "markdown",
   "metadata": {},
   "source": []
  },
  {
   "cell_type": "code",
   "execution_count": 24,
   "metadata": {},
   "outputs": [],
   "source": [
    "# concatenate\n",
    "tuple_concate = (1,2,3) + (5,6)\n",
    "tuple_concate_sum = sum(((1,2,3),(2,3,5)), ())\n",
    "# repeat\n",
    "tuple_repeat = (1,2,4) * 3\n",
    "# check\n",
    "tuple_check = 4 in (1,2,4,8,9)"
   ]
  },
  {
   "cell_type": "code",
   "execution_count": 25,
   "metadata": {},
   "outputs": [
    {
     "name": "stdout",
     "output_type": "stream",
     "text": [
      "concatenate_tuple (1, 2, 3, 5, 6)\n",
      "concatenate_tuple_sum (1, 2, 3, 2, 3, 5)\n",
      "repeat_tuple (1, 2, 4, 1, 2, 4, 1, 2, 4)\n",
      "check_tuple True\n"
     ]
    }
   ],
   "source": [
    "print('concatenate_tuple', tuple_concate)\n",
    "print('concatenate_tuple_sum', tuple_concate_sum)\n",
    "print('repeat_tuple', tuple_repeat)\n",
    "print('check_tuple', tuple_check)"
   ]
  },
  {
   "cell_type": "code",
   "execution_count": 6,
   "metadata": {},
   "outputs": [],
   "source": [
    "t = (\"hello\", 4, 26, 45.2)"
   ]
  },
  {
   "cell_type": "code",
   "execution_count": 9,
   "metadata": {},
   "outputs": [
    {
     "data": {
      "text/plain": [
       "(4, 26, 45.2)"
      ]
     },
     "execution_count": 9,
     "metadata": {},
     "output_type": "execute_result"
    }
   ],
   "source": [
    "# Semua item list dari index 1\n",
    "t[1:]"
   ]
  },
  {
   "cell_type": "code",
   "execution_count": 10,
   "metadata": {},
   "outputs": [
    {
     "data": {
      "text/plain": [
       "(4, 26, 45.2)"
      ]
     },
     "execution_count": 10,
     "metadata": {},
     "output_type": "execute_result"
    }
   ],
   "source": [
    "# item tuple dari index 1 sampai index 3\n",
    "t[1:4]"
   ]
  },
  {
   "cell_type": "code",
   "execution_count": 8,
   "metadata": {},
   "outputs": [
    {
     "name": "stdout",
     "output_type": "stream",
     "text": [
      "('hello', 4, 26, 45.2)\n",
      "('hello', 26)\n",
      "(45.2, 26, 4, 'hello')\n",
      "('hello', 26)\n"
     ]
    }
   ],
   "source": [
    "# item tuple dengan melangkahi atau frekuensi\n",
    "print(t[::1])\n",
    "print(t[::2])\n",
    "print(t[::-1])\n",
    "print(t[:3:2])"
   ]
  },
  {
   "cell_type": "markdown",
   "metadata": {},
   "source": [
    "## Cara Update tuple\n",
    "Karena tuple bersifat immutable jadi kita tidak bisa melakukan update tuple secara langsung"
   ]
  },
  {
   "cell_type": "code",
   "execution_count": 11,
   "metadata": {},
   "outputs": [
    {
     "ename": "TypeError",
     "evalue": "'tuple' object does not support item assignment",
     "output_type": "error",
     "traceback": [
      "\u001b[1;31m---------------------------------------------------------------------------\u001b[0m",
      "\u001b[1;31mTypeError\u001b[0m                                 Traceback (most recent call last)",
      "\u001b[1;32md:\\Programming\\Python\\pytutor\\tupples.ipynb Cell 14\u001b[0m line \u001b[0;36m2\n\u001b[0;32m      <a href='vscode-notebook-cell:/d%3A/Programming/Python/pytutor/tupples.ipynb#X13sZmlsZQ%3D%3D?line=0'>1</a>\u001b[0m t \u001b[39m=\u001b[39m (\u001b[39m\"\u001b[39m\u001b[39ma\u001b[39m\u001b[39m\"\u001b[39m, \u001b[39m\"\u001b[39m\u001b[39mb\u001b[39m\u001b[39m\"\u001b[39m, \u001b[39m4\u001b[39m, \u001b[39m22.5\u001b[39m)\n\u001b[1;32m----> <a href='vscode-notebook-cell:/d%3A/Programming/Python/pytutor/tupples.ipynb#X13sZmlsZQ%3D%3D?line=1'>2</a>\u001b[0m t[\u001b[39m2\u001b[39;49m] \u001b[39m=\u001b[39m \u001b[39m'\u001b[39m\u001b[39mg\u001b[39m\u001b[39m'\u001b[39m\n\u001b[0;32m      <a href='vscode-notebook-cell:/d%3A/Programming/Python/pytutor/tupples.ipynb#X13sZmlsZQ%3D%3D?line=2'>3</a>\u001b[0m \u001b[39mprint\u001b[39m (\u001b[39m\"\u001b[39m\u001b[39mt: \u001b[39m\u001b[39m\"\u001b[39m, t)\n",
      "\u001b[1;31mTypeError\u001b[0m: 'tuple' object does not support item assignment"
     ]
    }
   ],
   "source": [
    "t = (\"a\", \"b\", 4, 22.5)\n",
    "t[2] = 'g'\n",
    "print (\"t: \", t)"
   ]
  },
  {
   "cell_type": "markdown",
   "metadata": {},
   "source": [
    "#### Step by step melakukan update tuple\n",
    "\n",
    "* Mengubah tuple menjadi list dengan casting `list()`\n",
    "* Lakukan modify pada list dengan method atau secara langsung\n",
    "* Setelah sesuai dengan keinginan casting list menjadi tuple kembali dengan `tuple()`"
   ]
  },
  {
   "cell_type": "code",
   "execution_count": 16,
   "metadata": {},
   "outputs": [
    {
     "name": "stdout",
     "output_type": "stream",
     "text": [
      "Tuple before update ('a', 'b', 'x', 'z') id():  2212083174192\n",
      "updated list ['Y', 'a', 'b', 'hello', 'z']\n",
      "Tuple after update ('Y', 'a', 'b', 'hello', 'z') id():  2212082583328\n"
     ]
    }
   ],
   "source": [
    "t = (\"a\", \"b\", \"x\", \"z\")\n",
    "print (\"Tuple before update\", t, \"id(): \", id(t))\n",
    "\n",
    "list1 = list(t)\n",
    "list1[2]='Y'\n",
    "list1.append(\"hello\")\n",
    "list1.sort()\n",
    "print (\"updated list\", list1)\n",
    "\n",
    "t = tuple(list1)\n",
    "print (\"Tuple after update\", t, \"id(): \", id(t))"
   ]
  },
  {
   "cell_type": "markdown",
   "metadata": {},
   "source": [
    "## Unpack tutorial"
   ]
  },
  {
   "cell_type": "markdown",
   "metadata": {},
   "source": [
    "Biasanya kalau di javascript kita bisa melakukan destruktur terhadap object atau list, pada tuple kita juga bisa melakukan destruktur atau unpacking"
   ]
  },
  {
   "cell_type": "code",
   "execution_count": 17,
   "metadata": {},
   "outputs": [],
   "source": [
    "t = (\"gunting\", \"batu\", \"kertas\")\n",
    "x ,y ,z = t"
   ]
  },
  {
   "cell_type": "code",
   "execution_count": 19,
   "metadata": {},
   "outputs": [
    {
     "name": "stdout",
     "output_type": "stream",
     "text": [
      "gunting\n",
      "batu\n",
      "kertas\n"
     ]
    }
   ],
   "source": [
    "print(x)\n",
    "print(y)\n",
    "print(z)"
   ]
  },
  {
   "cell_type": "code",
   "execution_count": 20,
   "metadata": {},
   "outputs": [
    {
     "ename": "ValueError",
     "evalue": "too many values to unpack (expected 2)",
     "output_type": "error",
     "traceback": [
      "\u001b[1;31m---------------------------------------------------------------------------\u001b[0m",
      "\u001b[1;31mValueError\u001b[0m                                Traceback (most recent call last)",
      "\u001b[1;32md:\\Programming\\Python\\pytutor\\tupples.ipynb Cell 21\u001b[0m line \u001b[0;36m2\n\u001b[0;32m      <a href='vscode-notebook-cell:/d%3A/Programming/Python/pytutor/tupples.ipynb#X26sZmlsZQ%3D%3D?line=0'>1</a>\u001b[0m \u001b[39m# untuk melakukan packing jumlah variable harus sama dengan jumlah item tuple\u001b[39;00m\n\u001b[1;32m----> <a href='vscode-notebook-cell:/d%3A/Programming/Python/pytutor/tupples.ipynb#X26sZmlsZQ%3D%3D?line=1'>2</a>\u001b[0m x,y \u001b[39m=\u001b[39m t\n",
      "\u001b[1;31mValueError\u001b[0m: too many values to unpack (expected 2)"
     ]
    }
   ],
   "source": [
    "# untuk melakukan packing jumlah variable harus sama dengan jumlah item tuple\n",
    "x,y = t"
   ]
  },
  {
   "cell_type": "code",
   "execution_count": 21,
   "metadata": {},
   "outputs": [
    {
     "name": "stdout",
     "output_type": "stream",
     "text": [
      "gunting\n",
      "['batu', 'kertas']\n"
     ]
    }
   ],
   "source": [
    "#kita bisa mengakali error ini dengan *\n",
    "x, *y = t\n",
    "print(x)\n",
    "print(y)"
   ]
  },
  {
   "cell_type": "code",
   "execution_count": 22,
   "metadata": {},
   "outputs": [
    {
     "name": "stdout",
     "output_type": "stream",
     "text": [
      "['gunting', 'batu']\n",
      "kertas\n"
     ]
    }
   ],
   "source": [
    "*x, y = t\n",
    "print(x)\n",
    "print(y)"
   ]
  },
  {
   "cell_type": "markdown",
   "metadata": {},
   "source": [
    "## Tupple Methods\n",
    "Karena tuple bersifat immutable jadi methods di tuple tidak sebanyak di list\n",
    "\n",
    "* count()\n",
    "* index()"
   ]
  },
  {
   "cell_type": "code",
   "execution_count": 28,
   "metadata": {},
   "outputs": [
    {
     "data": {
      "text/plain": [
       "4"
      ]
     },
     "execution_count": 28,
     "metadata": {},
     "output_type": "execute_result"
    }
   ],
   "source": [
    "names = ('Irsyad', 'Jelisa','Irsyad', 'Rio', 'Sukiman', 'Tukul')\n",
    "names.index('Sukiman')"
   ]
  },
  {
   "cell_type": "code",
   "execution_count": 29,
   "metadata": {},
   "outputs": [
    {
     "data": {
      "text/plain": [
       "2"
      ]
     },
     "execution_count": 29,
     "metadata": {},
     "output_type": "execute_result"
    }
   ],
   "source": [
    "names.count('Irsyad')"
   ]
  },
  {
   "cell_type": "code",
   "execution_count": null,
   "metadata": {},
   "outputs": [],
   "source": []
  }
 ],
 "metadata": {
  "kernelspec": {
   "display_name": "Python 3",
   "language": "python",
   "name": "python3"
  },
  "language_info": {
   "codemirror_mode": {
    "name": "ipython",
    "version": 3
   },
   "file_extension": ".py",
   "mimetype": "text/x-python",
   "name": "python",
   "nbconvert_exporter": "python",
   "pygments_lexer": "ipython3",
   "version": "3.11.0"
  }
 },
 "nbformat": 4,
 "nbformat_minor": 2
}
