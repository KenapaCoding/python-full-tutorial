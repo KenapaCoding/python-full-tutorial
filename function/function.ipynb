{
  "cells": [
    {
      "cell_type": "markdown",
      "metadata": {
        "id": "Bok1oyuCF2_8"
      },
      "source": [
        "# FUNCTION"
      ]
    },
    {
      "cell_type": "markdown",
      "metadata": {
        "id": "bGebZ-XrF2_9"
      },
      "source": [
        "## Apa Itu Function?\n",
        "* Function adalah block code yang terorganisir yang berisi statement-statement ataupun operasi aritmatik yang dibuat untuk melakukan solve problem.\n",
        "* Function juga bersifat reusable, atau dapat dipanggil Kembali, sehingga kita dapat menghindari penulisan ulang\n",
        "( DRY – don’t repeat yourself ) .\n",
        "* Fungsi juga dapat menerima argument atau parameter untuk digunakan dalam block kode yang dibuat.\n"
      ]
    },
    {
      "cell_type": "code",
      "source": [
        "def hello_world():\n",
        "  print(\"hello wold\")"
      ],
      "metadata": {
        "id": "YZZF-nwsIMSV"
      },
      "execution_count": null,
      "outputs": []
    },
    {
      "cell_type": "markdown",
      "source": [
        "Cara memanggil function `nama_function()`"
      ],
      "metadata": {
        "id": "OqYhXqpoIbZh"
      }
    },
    {
      "cell_type": "code",
      "source": [
        "hello_world()"
      ],
      "metadata": {
        "colab": {
          "base_uri": "https://localhost:8080/"
        },
        "id": "vjvh6G7aIUH2",
        "outputId": "1aec691c-0d2c-4e70-9fe1-ecb1641e450d"
      },
      "execution_count": null,
      "outputs": [
        {
          "output_type": "stream",
          "name": "stdout",
          "text": [
            "hello wold\n"
          ]
        }
      ]
    },
    {
      "cell_type": "code",
      "source": [
        "def perkenalan(nama, umur):\n",
        "  print(f'perkenalkan saya {nama}, saya berumur {umur}')"
      ],
      "metadata": {
        "id": "8-ZN6vxhIr17"
      },
      "execution_count": null,
      "outputs": []
    },
    {
      "cell_type": "code",
      "source": [
        "perkenalan('Suyitno')\n"
      ],
      "metadata": {
        "colab": {
          "base_uri": "https://localhost:8080/",
          "height": 175
        },
        "id": "a0UF9VaaJFnp",
        "outputId": "7886fff8-f6d5-474e-9b0e-5d3baec811ef"
      },
      "execution_count": null,
      "outputs": [
        {
          "output_type": "error",
          "ename": "TypeError",
          "evalue": "ignored",
          "traceback": [
            "\u001b[0;31m---------------------------------------------------------------------------\u001b[0m",
            "\u001b[0;31mTypeError\u001b[0m                                 Traceback (most recent call last)",
            "\u001b[0;32m<ipython-input-17-6dfb8e87b520>\u001b[0m in \u001b[0;36m<cell line: 1>\u001b[0;34m()\u001b[0m\n\u001b[0;32m----> 1\u001b[0;31m \u001b[0mperkenalan\u001b[0m\u001b[0;34m(\u001b[0m\u001b[0;34m'Suyitno'\u001b[0m\u001b[0;34m)\u001b[0m\u001b[0;34m\u001b[0m\u001b[0;34m\u001b[0m\u001b[0m\n\u001b[0m",
            "\u001b[0;31mTypeError\u001b[0m: perkenalan() missing 1 required positional argument: 'umur'"
          ]
        }
      ]
    },
    {
      "cell_type": "markdown",
      "source": [
        "### function dengan return keyword\n",
        "\n",
        "return keywoard digunakan agar kita bisa menyimpan value yang di return ke dalam variable, sedangkan print hanya melakukan show value"
      ],
      "metadata": {
        "id": "w_cjmIdiJaYT"
      }
    },
    {
      "cell_type": "code",
      "source": [
        "# function print\n",
        "def perkenalan(nama, umur):\n",
        "  print(f'perkenalkan saya {nama}, saya berumur {umur}')\n",
        "\n",
        "# function return\n",
        "def perkenalan_return(nama, umur):\n",
        "  return (f'perkenalkan saya {nama}, saya berumur {umur}')"
      ],
      "metadata": {
        "id": "XvsczmgFJ03D"
      },
      "execution_count": null,
      "outputs": []
    },
    {
      "cell_type": "code",
      "source": [
        "greeting = perkenalan_return(\"ranggo\", 25)\n",
        "greet = perkenalan(\"ranggo\", 25)"
      ],
      "metadata": {
        "colab": {
          "base_uri": "https://localhost:8080/"
        },
        "id": "wU4yVoAbJ64z",
        "outputId": "ffbc1c1f-d9d1-4638-f2d3-52ab8ec29224"
      },
      "execution_count": null,
      "outputs": [
        {
          "output_type": "stream",
          "name": "stdout",
          "text": [
            "perkenalkan saya ranggo, saya berumur 25\n"
          ]
        }
      ]
    },
    {
      "cell_type": "code",
      "source": [
        "print(greet + ' saya hobby catur')"
      ],
      "metadata": {
        "colab": {
          "base_uri": "https://localhost:8080/",
          "height": 175
        },
        "id": "YE_xsMRcKNk8",
        "outputId": "4a09ba7d-424e-4490-897c-2207944e8dc8"
      },
      "execution_count": null,
      "outputs": [
        {
          "output_type": "error",
          "ename": "TypeError",
          "evalue": "ignored",
          "traceback": [
            "\u001b[0;31m---------------------------------------------------------------------------\u001b[0m",
            "\u001b[0;31mTypeError\u001b[0m                                 Traceback (most recent call last)",
            "\u001b[0;32m<ipython-input-20-e17643074c2c>\u001b[0m in \u001b[0;36m<cell line: 1>\u001b[0;34m()\u001b[0m\n\u001b[0;32m----> 1\u001b[0;31m \u001b[0mprint\u001b[0m\u001b[0;34m(\u001b[0m\u001b[0mgreet\u001b[0m \u001b[0;34m+\u001b[0m \u001b[0;34m' saya hobby catur'\u001b[0m\u001b[0;34m)\u001b[0m\u001b[0;34m\u001b[0m\u001b[0;34m\u001b[0m\u001b[0m\n\u001b[0m",
            "\u001b[0;31mTypeError\u001b[0m: unsupported operand type(s) for +: 'NoneType' and 'str'"
          ]
        }
      ]
    },
    {
      "cell_type": "code",
      "source": [
        "print(greeting + ' saya hobby catur')"
      ],
      "metadata": {
        "colab": {
          "base_uri": "https://localhost:8080/"
        },
        "id": "9Ru24twXKDrz",
        "outputId": "77ea5bcc-293d-49be-d048-cd134727c540"
      },
      "execution_count": null,
      "outputs": [
        {
          "output_type": "stream",
          "name": "stdout",
          "text": [
            "perkenalkan saya ranggo, saya berumur 25 saya hobby catur\n"
          ]
        }
      ]
    },
    {
      "cell_type": "markdown",
      "source": [
        "Multiple return"
      ],
      "metadata": {
        "id": "u1bL7DOyej0b"
      }
    },
    {
      "cell_type": "code",
      "source": [
        "def bilangan(x):\n",
        "  angka_prima = True\n",
        "  if((x == 0) or (x == 1)):\n",
        "    angka_prima = False\n",
        "  else:\n",
        "    for i in range(2,(x//2)):\n",
        "      if ((x % i) == 0):\n",
        "        angka_prima = False\n",
        "        break\n",
        "\n",
        "  if(angka_prima):\n",
        "    return angka_prima, f'{x} adalah angka prima'\n",
        "  else:\n",
        "    return angka_prima, f'{x} bukan angka prima'"
      ],
      "metadata": {
        "id": "izzHU2H-eXD4"
      },
      "execution_count": null,
      "outputs": []
    },
    {
      "cell_type": "code",
      "source": [
        "bilangan(7)"
      ],
      "metadata": {
        "colab": {
          "base_uri": "https://localhost:8080/"
        },
        "id": "Gi0n6h4Zf08x",
        "outputId": "3453a8fa-8a4f-4dde-db6e-0e2e3b40cdd4"
      },
      "execution_count": null,
      "outputs": [
        {
          "output_type": "execute_result",
          "data": {
            "text/plain": [
              "(True, '7 adalah angka prima')"
            ]
          },
          "metadata": {},
          "execution_count": 23
        }
      ]
    },
    {
      "cell_type": "code",
      "source": [
        "is_prima, detail = bilangan(114)\n",
        "print(is_prima)\n",
        "print(detail)"
      ],
      "metadata": {
        "colab": {
          "base_uri": "https://localhost:8080/"
        },
        "id": "IIBz6k7egfS4",
        "outputId": "39591df6-bcf2-4bed-a599-5c030e182a38"
      },
      "execution_count": null,
      "outputs": [
        {
          "output_type": "stream",
          "name": "stdout",
          "text": [
            "False\n",
            "114 bukan angka prima\n"
          ]
        }
      ]
    },
    {
      "cell_type": "code",
      "source": [
        "def bilangan_ganjil(x):\n",
        "  if x%2 ==1:\n",
        "    return x, f'{x} adalah bilangan ganjil'\n",
        "  else:\n",
        "    return x, f'{x} adalah bilangan genap'\n",
        "angka, ganjil_or_genap = bilangan_ganjil(13)\n",
        "print(angka)\n",
        "print(ganjil_or_genap)"
      ],
      "metadata": {
        "colab": {
          "base_uri": "https://localhost:8080/"
        },
        "id": "0Mi_bU78rINT",
        "outputId": "341e238e-e8e9-41e3-97ae-8208ce434667"
      },
      "execution_count": null,
      "outputs": [
        {
          "output_type": "stream",
          "name": "stdout",
          "text": [
            "13\n",
            "13 adalah bilangan ganjil\n"
          ]
        }
      ]
    },
    {
      "cell_type": "markdown",
      "metadata": {
        "id": "I2tI6iz9F2_-"
      },
      "source": [
        "## Function Arguments\n",
        "* Default arg\n",
        "* Keywoard arg\n",
        "* Position arg\n",
        "* **args\n",
        "* **kwargs\n",
        "\n"
      ]
    },
    {
      "cell_type": "code",
      "source": [
        "# default argument\n",
        "def perkenalan(nama, umur = 25):\n",
        "  print(f'perkenalkan saya {nama}, saya berumur {umur}')"
      ],
      "metadata": {
        "id": "0biOT89Ohq99"
      },
      "execution_count": null,
      "outputs": []
    },
    {
      "cell_type": "code",
      "source": [
        "perkenalan('ranggo')\n",
        "perkenalan('ranggo', 23)"
      ],
      "metadata": {
        "colab": {
          "base_uri": "https://localhost:8080/"
        },
        "id": "KCFgEACyh3i3",
        "outputId": "1f86286f-3b2a-4951-d2ad-0d0338b28dff"
      },
      "execution_count": null,
      "outputs": [
        {
          "output_type": "stream",
          "name": "stdout",
          "text": [
            "perkenalkan saya ranggo, saya berumur 25\n",
            "perkenalkan saya ranggo, saya berumur 23\n"
          ]
        }
      ]
    },
    {
      "cell_type": "code",
      "source": [
        "def perkenalan(nama, umur):\n",
        "  print(f'perkenalkan saya {nama}, saya berumur {umur}')\n",
        "\n",
        "# keywoard argument\n",
        "perkenalan(umur = 20, nama = 'ranggo')\n",
        "# positional argument\n",
        "perkenalan(18, 'Budi')\n"
      ],
      "metadata": {
        "colab": {
          "base_uri": "https://localhost:8080/"
        },
        "id": "wEmWDqoNh-rO",
        "outputId": "1646163d-c19c-42e5-962c-febe0d97214b"
      },
      "execution_count": null,
      "outputs": [
        {
          "output_type": "stream",
          "name": "stdout",
          "text": [
            "perkenalkan saya ranggo, saya berumur 20\n",
            "perkenalkan saya 18, saya berumur Budi\n"
          ]
        }
      ]
    },
    {
      "cell_type": "code",
      "source": [
        "# positional argument tidak boleh ada setelah keywoard argument\n",
        "perkenalan('ranggo', umur =20)"
      ],
      "metadata": {
        "colab": {
          "base_uri": "https://localhost:8080/"
        },
        "id": "qTJGlw5uitUX",
        "outputId": "9f57ab70-3e22-4408-f284-70226fd3d62b"
      },
      "execution_count": null,
      "outputs": [
        {
          "output_type": "stream",
          "name": "stdout",
          "text": [
            "perkenalkan saya ranggo, saya berumur 20\n"
          ]
        }
      ]
    },
    {
      "cell_type": "code",
      "source": [
        "# keywoard argument only\n",
        "def square(*,a,b):\n",
        "  value = a**b\n",
        "  return value"
      ],
      "metadata": {
        "id": "aFDvbEUGiZud"
      },
      "execution_count": null,
      "outputs": []
    },
    {
      "cell_type": "code",
      "source": [
        "x = square(6,9)"
      ],
      "metadata": {
        "colab": {
          "base_uri": "https://localhost:8080/",
          "height": 175
        },
        "id": "EpQuxiBOjM5c",
        "outputId": "1d853913-2836-4561-c55c-5e67dcfc6c9d"
      },
      "execution_count": null,
      "outputs": [
        {
          "output_type": "error",
          "ename": "TypeError",
          "evalue": "ignored",
          "traceback": [
            "\u001b[0;31m---------------------------------------------------------------------------\u001b[0m",
            "\u001b[0;31mTypeError\u001b[0m                                 Traceback (most recent call last)",
            "\u001b[0;32m<ipython-input-46-c07ffe75f373>\u001b[0m in \u001b[0;36m<cell line: 1>\u001b[0;34m()\u001b[0m\n\u001b[0;32m----> 1\u001b[0;31m \u001b[0mx\u001b[0m \u001b[0;34m=\u001b[0m \u001b[0msquare\u001b[0m\u001b[0;34m(\u001b[0m\u001b[0;36m6\u001b[0m\u001b[0;34m,\u001b[0m\u001b[0;36m9\u001b[0m\u001b[0;34m)\u001b[0m\u001b[0;34m\u001b[0m\u001b[0;34m\u001b[0m\u001b[0m\n\u001b[0m",
            "\u001b[0;31mTypeError\u001b[0m: square() takes 0 positional arguments but 2 were given"
          ]
        }
      ]
    },
    {
      "cell_type": "code",
      "source": [
        "x = square(a=6, b=9)\n",
        "print(x)"
      ],
      "metadata": {
        "colab": {
          "base_uri": "https://localhost:8080/"
        },
        "id": "9v_s9imLjX5g",
        "outputId": "2eb8b792-f9ba-4e62-fe58-5b7fbd4e093f"
      },
      "execution_count": null,
      "outputs": [
        {
          "output_type": "stream",
          "name": "stdout",
          "text": [
            "10077696\n"
          ]
        }
      ]
    },
    {
      "cell_type": "code",
      "source": [
        "# positional argument only\n",
        "def penjumlahan(a,/,b):\n",
        "  value = a+b\n",
        "  return value"
      ],
      "metadata": {
        "id": "tW1Rca_vjpDL"
      },
      "execution_count": null,
      "outputs": []
    },
    {
      "cell_type": "code",
      "source": [
        "penjumlahan(5, b=8)"
      ],
      "metadata": {
        "colab": {
          "base_uri": "https://localhost:8080/"
        },
        "id": "yOAGBKsVjxku",
        "outputId": "7236bf05-0f68-4c58-def8-3da276ad7815"
      },
      "execution_count": null,
      "outputs": [
        {
          "output_type": "execute_result",
          "data": {
            "text/plain": [
              "13"
            ]
          },
          "metadata": {},
          "execution_count": 57
        }
      ]
    },
    {
      "cell_type": "markdown",
      "source": [
        "*args"
      ],
      "metadata": {
        "id": "OydSk_xQkilp"
      }
    },
    {
      "cell_type": "code",
      "source": [
        "# total penjumlahan seluruh argument\n",
        "def total_penjumlahan(a,*args):\n",
        "   s=0\n",
        "   for x in args:\n",
        "      s=s+x\n",
        "   return s - a\n",
        "total = total_penjumlahan(1,2,3)\n",
        "print (total)\n",
        "\n",
        "total = total_penjumlahan(1,2,3,4)\n",
        "print (total)"
      ],
      "metadata": {
        "colab": {
          "base_uri": "https://localhost:8080/"
        },
        "id": "JA_OQoCdkLsN",
        "outputId": "d8b28837-7639-4ddd-f7e0-9bc5ffbe77ad"
      },
      "execution_count": null,
      "outputs": [
        {
          "output_type": "stream",
          "name": "stdout",
          "text": [
            "4\n",
            "8\n"
          ]
        }
      ]
    },
    {
      "cell_type": "code",
      "source": [
        "def bilangan_ganjil(*args):\n",
        "   ganjils = []\n",
        "   for x in args:\n",
        "      if x%2 == 1:\n",
        "        ganjils.append(x)\n",
        "   return ganjils\n",
        "print(bilangan_ganjil(1,2,3,4,5,6,7,8,8,1,2,3,5))"
      ],
      "metadata": {
        "colab": {
          "base_uri": "https://localhost:8080/"
        },
        "id": "qEI4NFqhdma2",
        "outputId": "d042efdc-3c9c-40a2-fff0-4c335d46338f"
      },
      "execution_count": null,
      "outputs": [
        {
          "output_type": "stream",
          "name": "stdout",
          "text": [
            "[1, 3, 5, 7, 1, 3, 5]\n"
          ]
        }
      ]
    },
    {
      "cell_type": "markdown",
      "source": [
        "**kwargs"
      ],
      "metadata": {
        "id": "29fCaluRbR1U"
      }
    },
    {
      "cell_type": "code",
      "source": [
        "def alamat_detail(**kwargs):\n",
        "   for k,v in kwargs.items():\n",
        "      print (f'{k} : {v}')\n",
        "\n",
        "\n",
        "alamat_detail(Nama=\"Sukijan\", Kota=\"Solo\")\n",
        "alamat_detail(Nama=\"Yoga\", Kota=\"Padang\", Provinsi=\"Sumatera Barat\")"
      ],
      "metadata": {
        "colab": {
          "base_uri": "https://localhost:8080/"
        },
        "id": "ouKmfJeycaHP",
        "outputId": "6f0684db-9761-4bc0-b01e-be0135233f32"
      },
      "execution_count": null,
      "outputs": [
        {
          "output_type": "stream",
          "name": "stdout",
          "text": [
            "Nama : Sukijan\n",
            "Kota : Solo\n",
            "Nama : Yoga\n",
            "Kota : Padang\n",
            "Provinsi : Sumatera Barat\n"
          ]
        }
      ]
    },
    {
      "cell_type": "code",
      "source": [
        "def buah_fav(**kwargs):\n",
        "    if 'buah' in kwargs:\n",
        "        print(f\"buah favorite saya adalah {kwargs['buah']}\")\n",
        "    else:\n",
        "        print(\"buah favorite saya adalah mangga\")\n",
        "\n",
        "buah_fav(buah='apel')"
      ],
      "metadata": {
        "colab": {
          "base_uri": "https://localhost:8080/"
        },
        "id": "houc-W3wbQsb",
        "outputId": "494df32b-058e-4ca1-a421-4c98b892f6f0"
      },
      "execution_count": null,
      "outputs": [
        {
          "output_type": "stream",
          "name": "stdout",
          "text": [
            "buah favorite saya adalah apel\n"
          ]
        }
      ]
    },
    {
      "cell_type": "markdown",
      "metadata": {
        "id": "3hbS3XTAF2_-"
      },
      "source": [
        "## Function Annotations\n",
        "* Anotasi di python membantu untuk menentukan type data argument dan juga type dari return function.\n",
        "* Walaupun saat runtime anotasi akan diabaikan, tetapi apabila menggunakan IDEs dapat membantu sebagai pengecek.\n"
      ]
    },
    {
      "cell_type": "code",
      "source": [
        "def perkalian(a: int, b: int):\n",
        "   return a*b\n",
        "perkalian(8,9.9)"
      ],
      "metadata": {
        "colab": {
          "base_uri": "https://localhost:8080/"
        },
        "id": "_7Cj9xdHish6",
        "outputId": "26a361a3-1d1d-4535-834b-4c4f1543372c"
      },
      "execution_count": null,
      "outputs": [
        {
          "output_type": "execute_result",
          "data": {
            "text/plain": [
              "79.2"
            ]
          },
          "metadata": {},
          "execution_count": 66
        }
      ]
    },
    {
      "cell_type": "code",
      "source": [
        "def penjumlahan(a: int, b: int) -> int:\n",
        "   return a*b\n",
        "penjumlahan(8,'aaa')"
      ],
      "metadata": {
        "colab": {
          "base_uri": "https://localhost:8080/",
          "height": 36
        },
        "id": "s8XyhjPGi52K",
        "outputId": "15830fb1-da0a-4336-8f47-f5cf66d352ad"
      },
      "execution_count": null,
      "outputs": [
        {
          "output_type": "execute_result",
          "data": {
            "text/plain": [
              "'aaaaaaaaaaaaaaaaaaaaaaaa'"
            ],
            "application/vnd.google.colaboratory.intrinsic+json": {
              "type": "string"
            }
          },
          "metadata": {},
          "execution_count": 67
        }
      ]
    },
    {
      "cell_type": "markdown",
      "metadata": {
        "id": "jJkup-G-F2_-"
      },
      "source": [
        "## Lambda Expression, Map, dan Filter\n",
        "* Map, digunakan untuk memetakan function ke object yang iterable seperti list.\n",
        "* Lambda exp digunakan untuk membuat fungsi \"anonim\". Sehingga  dapat dengan cepat membuat function tanpa perlu mendefinisikan function dengan benar menggunakan def.\n",
        "* Filter, digunakan melakukan iterable dan melakukan function check sehingga mengembalikan list baru dengan kondisi yang di tetapkan."
      ]
    },
    {
      "cell_type": "code",
      "source": [
        "list_angka = [1,2,3,4,5,6,7,8,9]"
      ],
      "metadata": {
        "id": "sYxM8nHYklTs"
      },
      "execution_count": null,
      "outputs": []
    },
    {
      "cell_type": "code",
      "source": [
        "# map\n",
        "def pangkat(num):\n",
        "    return num**2"
      ],
      "metadata": {
        "id": "9aubQrvGjaEn"
      },
      "execution_count": null,
      "outputs": []
    },
    {
      "cell_type": "code",
      "source": [
        "map(pangkat,list_angka)"
      ],
      "metadata": {
        "colab": {
          "base_uri": "https://localhost:8080/"
        },
        "id": "D8xdXKDTj5dE",
        "outputId": "e4ea5f1c-f1a0-4db0-ad99-f2e476f3bba5"
      },
      "execution_count": null,
      "outputs": [
        {
          "output_type": "execute_result",
          "data": {
            "text/plain": [
              "<map at 0x7c361379d150>"
            ]
          },
          "metadata": {},
          "execution_count": 71
        }
      ]
    },
    {
      "cell_type": "code",
      "source": [
        "list(map(pangkat,list_angka))"
      ],
      "metadata": {
        "colab": {
          "base_uri": "https://localhost:8080/"
        },
        "id": "WDrHE2TxkBRg",
        "outputId": "a0a4307d-65ca-4411-9633-df834d9244a7"
      },
      "execution_count": null,
      "outputs": [
        {
          "output_type": "execute_result",
          "data": {
            "text/plain": [
              "[1, 4, 9, 16, 25, 36, 49, 64, 81]"
            ]
          },
          "metadata": {},
          "execution_count": 72
        }
      ]
    },
    {
      "cell_type": "code",
      "source": [
        "def genap_ganjil(num):\n",
        "    if num%2 == 0:\n",
        "      return 'genap'\n",
        "    else:\n",
        "      return 'ganjil'"
      ],
      "metadata": {
        "id": "zoCzx7bPkKl8"
      },
      "execution_count": null,
      "outputs": []
    },
    {
      "cell_type": "code",
      "source": [
        "list(map(genap_ganjil,list_angka))"
      ],
      "metadata": {
        "colab": {
          "base_uri": "https://localhost:8080/"
        },
        "id": "SovRgTwykpeb",
        "outputId": "7d081675-d598-4ef9-9592-7bc32430280c"
      },
      "execution_count": null,
      "outputs": [
        {
          "output_type": "execute_result",
          "data": {
            "text/plain": [
              "['ganjil',\n",
              " 'genap',\n",
              " 'ganjil',\n",
              " 'genap',\n",
              " 'ganjil',\n",
              " 'genap',\n",
              " 'ganjil',\n",
              " 'genap',\n",
              " 'ganjil']"
            ]
          },
          "metadata": {},
          "execution_count": 74
        }
      ]
    },
    {
      "cell_type": "code",
      "source": [
        "# filter\n",
        "def genap(num):\n",
        "    return num % 2 == 0"
      ],
      "metadata": {
        "id": "w9vX0OtFktjT"
      },
      "execution_count": null,
      "outputs": []
    },
    {
      "cell_type": "code",
      "source": [
        "list(filter(genap,list_angka))"
      ],
      "metadata": {
        "colab": {
          "base_uri": "https://localhost:8080/"
        },
        "id": "yGJxyHlwlDAb",
        "outputId": "302259a1-3065-4b9e-aa28-ac156f762d60"
      },
      "execution_count": null,
      "outputs": [
        {
          "output_type": "execute_result",
          "data": {
            "text/plain": [
              "[2, 4, 6, 8]"
            ]
          },
          "metadata": {},
          "execution_count": 77
        }
      ]
    },
    {
      "cell_type": "code",
      "source": [
        "# lambda expression\n",
        "def pangkat(num):\n",
        "    return num**2"
      ],
      "metadata": {
        "id": "WLVoahKjlIM4"
      },
      "execution_count": null,
      "outputs": []
    },
    {
      "cell_type": "code",
      "source": [
        "def pangkat2(num): return num**2"
      ],
      "metadata": {
        "id": "lZg56NDJlTzZ"
      },
      "execution_count": null,
      "outputs": []
    },
    {
      "cell_type": "code",
      "source": [
        "pangkat(3)\n",
        "pangkat2(3)"
      ],
      "metadata": {
        "colab": {
          "base_uri": "https://localhost:8080/"
        },
        "id": "3TSxDqYPlYNs",
        "outputId": "c509ae86-1c7c-49fa-aad4-9b9d9d076176"
      },
      "execution_count": null,
      "outputs": [
        {
          "output_type": "execute_result",
          "data": {
            "text/plain": [
              "9"
            ]
          },
          "metadata": {},
          "execution_count": 80
        }
      ]
    },
    {
      "cell_type": "code",
      "source": [
        "pangkat3 = lambda num: num ** 2"
      ],
      "metadata": {
        "id": "GL840wnflbjv"
      },
      "execution_count": null,
      "outputs": []
    },
    {
      "cell_type": "code",
      "source": [
        "pangkat3(3)"
      ],
      "metadata": {
        "colab": {
          "base_uri": "https://localhost:8080/"
        },
        "id": "YRXzqJ2Ilu4E",
        "outputId": "e6ccd31b-e601-49bd-fa7d-51f501011ac6"
      },
      "execution_count": null,
      "outputs": [
        {
          "output_type": "execute_result",
          "data": {
            "text/plain": [
              "9"
            ]
          },
          "metadata": {},
          "execution_count": 83
        }
      ]
    },
    {
      "cell_type": "code",
      "source": [
        "def pangkat_n(n):\n",
        "   return lambda a : a ** n"
      ],
      "metadata": {
        "id": "aqpLEVellxMX"
      },
      "execution_count": null,
      "outputs": []
    },
    {
      "cell_type": "code",
      "source": [
        "pangkat_7 = pangkat_n(7)\n",
        "print(pangkat_7(99))\n"
      ],
      "metadata": {
        "colab": {
          "base_uri": "https://localhost:8080/"
        },
        "id": "BAqE5rP0mztm",
        "outputId": "4d242362-418b-42d9-b225-6225b1821860"
      },
      "execution_count": null,
      "outputs": [
        {
          "output_type": "stream",
          "name": "stdout",
          "text": [
            "93206534790699\n"
          ]
        }
      ]
    },
    {
      "cell_type": "code",
      "source": [],
      "metadata": {
        "id": "CfwjyWu0m-ER"
      },
      "execution_count": null,
      "outputs": []
    }
  ],
  "metadata": {
    "language_info": {
      "name": "python"
    },
    "colab": {
      "provenance": []
    },
    "kernelspec": {
      "name": "python3",
      "display_name": "Python 3"
    }
  },
  "nbformat": 4,
  "nbformat_minor": 0
}