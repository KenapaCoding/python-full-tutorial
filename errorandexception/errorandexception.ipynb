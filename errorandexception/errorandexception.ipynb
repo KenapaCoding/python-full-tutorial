{
  "cells": [
    {
      "cell_type": "markdown",
      "metadata": {
        "id": "WBt_dmNpYR4F"
      },
      "source": [
        "# ERROR AND EXCEPTION"
      ]
    },
    {
      "cell_type": "markdown",
      "metadata": {
        "id": "1JX3xv4qYR4G"
      },
      "source": [
        "## Error and Exception\n",
        "* Pada umumnya saat membuat code kita pasti akan banyak melakukan error.\n",
        "* Dan error seperti ini tidak bisa dihindari dalam tahap development.\n",
        "* Tapi kita bisa menggunakan beberapa pengguanaan seperti try except, try finally, dll untuk memanipulasi atau mengetahui error code dibagian mana.\n",
        "* Error yang sering ditemui itu ada 3, Syntax errors, logical errors and runtime errors.\n"
      ]
    },
    {
      "cell_type": "markdown",
      "metadata": {
        "id": "9yQaC4wyYR4H"
      },
      "source": [
        "## Syntax, logical, dan runtime error\n",
        "* Syntax error merupakan error karena kesalahan dalam mengetik atau typo, ataupun kesalahan dalam grammar suatu bahasa pemograman.\n",
        "* Logical error, merupakan kesalahan yang terjadi karena kesalahan operasi atau statement.\n",
        "* Runtime error, merrupakan kesalahan yang terjadi saat melakukan running code.\n",
        "\n"
      ]
    },
    {
      "cell_type": "markdown",
      "metadata": {
        "id": "3aAdHPLAYR4H"
      },
      "source": [
        "## try and except\n",
        "\n",
        "Cara dasar untuk melakukan handle pada error adalah dengan menggunakan sintaks blok try dan except.\n",
        "\n",
        "    try:\n",
        "       Operasi dilakukan di try block...\n",
        "       ...\n",
        "    except ExceptionI:\n",
        "       Jika terjadi pengecualian dari operasi, maka except block akan di execute.\n",
        "    except ExceptionII:\n",
        "       Jika terjadi pengecualian lagi, maka blok except selanjutnya di execute.\n",
        "       ...\n",
        "    else:\n",
        "       Jika tidak ada masalah atau pengecualian, maka blok else diexecute.\n"
      ]
    },
    {
      "cell_type": "code",
      "source": [
        "print(\"Operasi pembagian variable a/b\")\n",
        "try:\n",
        "  a = int(input(\"Masukkan Nilai a: \"))\n",
        "  b = int(input(\"Masukkan Nilai b: \"))\n",
        "  result = a/b\n",
        "except ValueError:\n",
        "  print(\"Tolong masukkan angka sebagai nilai\")\n",
        "except ZeroDivisionError:\n",
        "  print(\"Pembagi tidak boleh nol\")\n",
        "except :\n",
        "  print(\"Ada Error\")\n",
        "else:\n",
        "  print(result)\n",
        "finally:\n",
        "  print('selalu execute')"
      ],
      "metadata": {
        "colab": {
          "base_uri": "https://localhost:8080/"
        },
        "id": "dQJcFpbr3GZ4",
        "outputId": "1d8521a4-d831-45f4-b0e9-66bd2f8f2703"
      },
      "execution_count": null,
      "outputs": [
        {
          "output_type": "stream",
          "name": "stdout",
          "text": [
            "Operasi pembagian variable a/b\n",
            "Masukkan Nilai a: 33\n",
            "Masukkan Nilai b: 9\n",
            "3.6666666666666665\n",
            "selalu execute\n"
          ]
        }
      ]
    },
    {
      "cell_type": "code",
      "source": [
        "a = int(input(\"Masukkan Nilai a: \"))\n",
        "b = int(input(\"Masukkan Nilai b: \"))\n",
        "result = a/b"
      ],
      "metadata": {
        "colab": {
          "base_uri": "https://localhost:8080/",
          "height": 245
        },
        "id": "JjNMT4ll3zhz",
        "outputId": "325ad725-2ad7-4a57-ee36-5b8a0e3e9f09"
      },
      "execution_count": null,
      "outputs": [
        {
          "name": "stdout",
          "output_type": "stream",
          "text": [
            "Masukkan Nilai a: 4\n",
            "Masukkan Nilai b: 0\n"
          ]
        },
        {
          "output_type": "error",
          "ename": "ZeroDivisionError",
          "evalue": "ignored",
          "traceback": [
            "\u001b[0;31m---------------------------------------------------------------------------\u001b[0m",
            "\u001b[0;31mZeroDivisionError\u001b[0m                         Traceback (most recent call last)",
            "\u001b[0;32m<ipython-input-7-cbe8271ef5d2>\u001b[0m in \u001b[0;36m<cell line: 3>\u001b[0;34m()\u001b[0m\n\u001b[1;32m      1\u001b[0m \u001b[0ma\u001b[0m \u001b[0;34m=\u001b[0m \u001b[0mint\u001b[0m\u001b[0;34m(\u001b[0m\u001b[0minput\u001b[0m\u001b[0;34m(\u001b[0m\u001b[0;34m\"Masukkan Nilai a: \"\u001b[0m\u001b[0;34m)\u001b[0m\u001b[0;34m)\u001b[0m\u001b[0;34m\u001b[0m\u001b[0;34m\u001b[0m\u001b[0m\n\u001b[1;32m      2\u001b[0m \u001b[0mb\u001b[0m \u001b[0;34m=\u001b[0m \u001b[0mint\u001b[0m\u001b[0;34m(\u001b[0m\u001b[0minput\u001b[0m\u001b[0;34m(\u001b[0m\u001b[0;34m\"Masukkan Nilai b: \"\u001b[0m\u001b[0;34m)\u001b[0m\u001b[0;34m)\u001b[0m\u001b[0;34m\u001b[0m\u001b[0;34m\u001b[0m\u001b[0m\n\u001b[0;32m----> 3\u001b[0;31m \u001b[0mresult\u001b[0m \u001b[0;34m=\u001b[0m \u001b[0ma\u001b[0m\u001b[0;34m/\u001b[0m\u001b[0mb\u001b[0m\u001b[0;34m\u001b[0m\u001b[0;34m\u001b[0m\u001b[0m\n\u001b[0m",
            "\u001b[0;31mZeroDivisionError\u001b[0m: division by zero"
          ]
        }
      ]
    },
    {
      "cell_type": "markdown",
      "metadata": {
        "id": "c4u-mjlBYR4H"
      },
      "source": [
        "## try and finally\n",
        "\n",
        "finally adalah block kode yang selalu di execute walaupun terjadi exception"
      ]
    },
    {
      "cell_type": "markdown",
      "source": [
        "    try:\n",
        "       Operasi dilakukan di try block...\n",
        "       ...\n",
        "    except ExceptionI:\n",
        "       Jika terjadi pengecualian dari operasi, maka except block akan di execute.\n",
        "    except ExceptionII:\n",
        "       Jika terjadi pengecualian lagi, maka blok except selanjutnya di execute.\n",
        "       ...\n",
        "    else:\n",
        "       Jika tidak ada masalah atau pengecualian, maka blok else diexecute.\n",
        "    finally:\n",
        "       Selalu di execute"
      ],
      "metadata": {
        "id": "CDrvL0DzYoZx"
      }
    },
    {
      "cell_type": "code",
      "source": [],
      "metadata": {
        "id": "dNPF7vnXYkmn"
      },
      "execution_count": null,
      "outputs": []
    }
  ],
  "metadata": {
    "language_info": {
      "name": "python"
    },
    "colab": {
      "provenance": []
    },
    "kernelspec": {
      "name": "python3",
      "display_name": "Python 3"
    }
  },
  "nbformat": 4,
  "nbformat_minor": 0
}