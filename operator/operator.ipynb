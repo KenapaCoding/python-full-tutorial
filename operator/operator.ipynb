{
 "cells": [
  {
   "cell_type": "markdown",
   "metadata": {},
   "source": [
    "# OPERATOR"
   ]
  },
  {
   "cell_type": "markdown",
   "metadata": {},
   "source": [
    "## Aritmatic Operator\n"
   ]
  },
  {
   "cell_type": "markdown",
   "metadata": {},
   "source": [
    "\n",
    "pada table ini `X` bernilai 5 dan `Y` bernilai 10\n",
    "\n",
    "<table class=\"table table-bordered\">\n",
    "<tr>\n",
    "<th style=\"width:10%\">Operator</th><th style=\"width:45%\">Name</th><th>Example</th>\n",
    "</tr>\n",
    "<tr>\n",
    "<td>+</td>\n",
    "<td>Addition</td>\n",
    "<td>X + Y = 15</td>\n",
    "</tr>\n",
    "<tr>\n",
    "<td>-</td>\n",
    "<td>Subtraction</td>\n",
    "<td>X - Y = -5</td>\n",
    "</tr>\n",
    "<tr>\n",
    "<td>*</td>\n",
    "<td>Multiplication</td>\n",
    "<td>X * Y = 50</td>\n",
    "</tr>\n",
    "<tr>\n",
    "<td>/</td>\n",
    "<td>Division</td>\n",
    "<td>Y / X = 2</td>\n",
    "</tr>\n",
    "<tr>\n",
    "<td>%</td>\n",
    "<td>Modulus</td>\n",
    "<td>Y % X = 0</td>\n",
    "</tr>\n",
    "<tr>\n",
    "<td>**</td>\n",
    "<td>Exponent</td>\n",
    "<td>X**Y = 10**20</td>\n",
    "</tr>\n",
    "<tr>\n",
    "<td>//</td>\n",
    "<td>Floor Division</td>\n",
    "<td>9//2 = 4</td>\n",
    "</tr>\n",
    "\n",
    "</table>"
   ]
  },
  {
   "cell_type": "markdown",
   "metadata": {},
   "source": [
    "### Penjumlahan "
   ]
  },
  {
   "cell_type": "code",
   "execution_count": 3,
   "metadata": {},
   "outputs": [
    {
     "name": "stdout",
     "output_type": "stream",
     "text": [
      "25\n"
     ]
    }
   ],
   "source": [
    "## Penjumlahan integer\n",
    "a = 20\n",
    "b = 5\n",
    "print(a+b)"
   ]
  },
  {
   "cell_type": "code",
   "execution_count": 6,
   "metadata": {},
   "outputs": [
    {
     "name": "stdout",
     "output_type": "stream",
     "text": [
      "36.7\n"
     ]
    }
   ],
   "source": [
    "## Penjumlahan integer dan float\n",
    "\n",
    "a= 13\n",
    "b= 23.7\n",
    "print(a+b)"
   ]
  },
  {
   "cell_type": "code",
   "execution_count": 17,
   "metadata": {},
   "outputs": [
    {
     "name": "stdout",
     "output_type": "stream",
     "text": [
      "15\n"
     ]
    }
   ],
   "source": [
    "## Augmented penjumlahan \n",
    "\n",
    "a = 5 \n",
    "b = 10 \n",
    "\n",
    "a = a + b \n",
    "print(a)"
   ]
  },
  {
   "cell_type": "code",
   "execution_count": 18,
   "metadata": {},
   "outputs": [
    {
     "name": "stdout",
     "output_type": "stream",
     "text": [
      "15\n"
     ]
    }
   ],
   "source": [
    "a = 5 \n",
    "b = 10 \n",
    "\n",
    "a +=b\n",
    "print(a)"
   ]
  },
  {
   "cell_type": "markdown",
   "metadata": {},
   "source": [
    "### Pengurangan"
   ]
  },
  {
   "cell_type": "code",
   "execution_count": 5,
   "metadata": {},
   "outputs": [
    {
     "name": "stdout",
     "output_type": "stream",
     "text": [
      "-7\n"
     ]
    }
   ],
   "source": [
    "## Pengurangan integer\n",
    "\n",
    "a = 8\n",
    "b = 15\n",
    "print(a-b)"
   ]
  },
  {
   "cell_type": "code",
   "execution_count": 7,
   "metadata": {},
   "outputs": [
    {
     "name": "stdout",
     "output_type": "stream",
     "text": [
      "87.9\n"
     ]
    }
   ],
   "source": [
    "## Pengurangan integer dan float\n",
    "\n",
    "a = 98.9\n",
    "b = 11\n",
    "print(a-b)"
   ]
  },
  {
   "cell_type": "code",
   "execution_count": 19,
   "metadata": {},
   "outputs": [
    {
     "name": "stdout",
     "output_type": "stream",
     "text": [
      "-5\n"
     ]
    }
   ],
   "source": [
    "## Augmented pengurangan\n",
    "\n",
    "a = 5 \n",
    "b = 10 \n",
    "\n",
    "a = a - b \n",
    "print(a)"
   ]
  },
  {
   "cell_type": "code",
   "execution_count": 20,
   "metadata": {},
   "outputs": [
    {
     "name": "stdout",
     "output_type": "stream",
     "text": [
      "-5\n"
     ]
    }
   ],
   "source": [
    "## Augmented pengurangan\n",
    "\n",
    "a = 5 \n",
    "b = 10 \n",
    "\n",
    "a -= b \n",
    "print(a)"
   ]
  },
  {
   "cell_type": "markdown",
   "metadata": {},
   "source": [
    "### Perkalian"
   ]
  },
  {
   "cell_type": "code",
   "execution_count": 8,
   "metadata": {},
   "outputs": [
    {
     "name": "stdout",
     "output_type": "stream",
     "text": [
      "120\n"
     ]
    }
   ],
   "source": [
    "## Perkalian integer\n",
    "\n",
    "a = 15\n",
    "b = 8\n",
    "print(a*b)"
   ]
  },
  {
   "cell_type": "code",
   "execution_count": 9,
   "metadata": {},
   "outputs": [
    {
     "name": "stdout",
     "output_type": "stream",
     "text": [
      "22.5\n"
     ]
    }
   ],
   "source": [
    "## Perkalian integer dan Float\n",
    "\n",
    "a = 7.5\n",
    "b = 3\n",
    "print(a*b)"
   ]
  },
  {
   "cell_type": "code",
   "execution_count": 21,
   "metadata": {},
   "outputs": [
    {
     "name": "stdout",
     "output_type": "stream",
     "text": [
      "50\n"
     ]
    }
   ],
   "source": [
    "## Augmented perkalian\n",
    "\n",
    "a = 5 \n",
    "b = 10 \n",
    "\n",
    "a *= b \n",
    "print(a)"
   ]
  },
  {
   "cell_type": "markdown",
   "metadata": {},
   "source": [
    "### Pembagian"
   ]
  },
  {
   "cell_type": "code",
   "execution_count": 10,
   "metadata": {},
   "outputs": [
    {
     "name": "stdout",
     "output_type": "stream",
     "text": [
      "10.0\n"
     ]
    }
   ],
   "source": [
    "## Pembagian integer\n",
    "\n",
    "a = 30\n",
    "b = 3\n",
    "print(a/b)"
   ]
  },
  {
   "cell_type": "code",
   "execution_count": 11,
   "metadata": {},
   "outputs": [
    {
     "name": "stdout",
     "output_type": "stream",
     "text": [
      "40.0\n"
     ]
    }
   ],
   "source": [
    "## Pembagian integer dan float\n",
    "\n",
    "a = 100\n",
    "b = 2.5\n",
    "print(a/b)"
   ]
  },
  {
   "cell_type": "code",
   "execution_count": 22,
   "metadata": {},
   "outputs": [
    {
     "name": "stdout",
     "output_type": "stream",
     "text": [
      "2.0\n"
     ]
    }
   ],
   "source": [
    "## Augmented pembagian\n",
    "a = 5 \n",
    "b = 10 \n",
    "\n",
    "b /= a\n",
    "print(b)"
   ]
  },
  {
   "cell_type": "markdown",
   "metadata": {},
   "source": [
    "### Modulus"
   ]
  },
  {
   "cell_type": "code",
   "execution_count": 14,
   "metadata": {},
   "outputs": [
    {
     "name": "stdout",
     "output_type": "stream",
     "text": [
      "2\n"
     ]
    }
   ],
   "source": [
    "a = 50\n",
    "b = 3\n",
    "print(a%b)"
   ]
  },
  {
   "cell_type": "code",
   "execution_count": 23,
   "metadata": {},
   "outputs": [
    {
     "name": "stdout",
     "output_type": "stream",
     "text": [
      "1\n"
     ]
    }
   ],
   "source": [
    "## Augmented modulus\n",
    "\n",
    "a = 3 \n",
    "b = 10 \n",
    "\n",
    "b %= a\n",
    "print(b)"
   ]
  },
  {
   "cell_type": "markdown",
   "metadata": {},
   "source": [
    "### Perpangkatan"
   ]
  },
  {
   "cell_type": "code",
   "execution_count": 15,
   "metadata": {},
   "outputs": [
    {
     "name": "stdout",
     "output_type": "stream",
     "text": [
      "25\n"
     ]
    }
   ],
   "source": [
    "a = 5\n",
    "b = 2\n",
    "print(a**b)"
   ]
  },
  {
   "cell_type": "code",
   "execution_count": 24,
   "metadata": {},
   "outputs": [
    {
     "name": "stdout",
     "output_type": "stream",
     "text": [
      "9765625\n"
     ]
    }
   ],
   "source": [
    "## Augmented perpangkatan\n",
    "\n",
    "a = 5 \n",
    "b = 10 \n",
    "\n",
    "a **=b \n",
    "print(a)"
   ]
  },
  {
   "cell_type": "markdown",
   "metadata": {},
   "source": [
    "### Floor Division/Integer Division"
   ]
  },
  {
   "cell_type": "code",
   "execution_count": 16,
   "metadata": {},
   "outputs": [
    {
     "name": "stdout",
     "output_type": "stream",
     "text": [
      "2\n"
     ]
    }
   ],
   "source": [
    "a = 12\n",
    "b = 6\n",
    "print(a//b)"
   ]
  },
  {
   "cell_type": "code",
   "execution_count": 25,
   "metadata": {},
   "outputs": [
    {
     "name": "stdout",
     "output_type": "stream",
     "text": [
      "2\n"
     ]
    }
   ],
   "source": [
    "## Augmented floor division\n",
    "\n",
    "a = 7 \n",
    "b = 3 \n",
    "\n",
    "a //= b\n",
    "print(a)"
   ]
  },
  {
   "cell_type": "markdown",
   "metadata": {},
   "source": [
    "## Assignment Operator\n",
    "* Melakukan Assign ke variable dengan nilai yang ditentukan, dengan menggunakan sintax ‘=‘ .\n",
    "* Variable assignment sudah dilakukan tadi di materi variable.\n"
   ]
  },
  {
   "cell_type": "markdown",
   "metadata": {},
   "source": [
    "## Comparison Operator"
   ]
  },
  {
   "cell_type": "markdown",
   "metadata": {},
   "source": [
    "\n",
    "pada table ini `X` bernilai 5 dan `Y` bernilai 10\n",
    "\n",
    "<table class=\"table table-bordered\">\n",
    "<tr>\n",
    "<th style=\"width:10%\">Operator</th><th style=\"width:45%\">Name</th><th>Example</th>\n",
    "</tr>\n",
    "<tr>\n",
    "<td>&lt;</td>\n",
    "<td>Jika Nilai dari x kecil dari y maka akan bernilai true, jika sebaliknya bernilai false</td>\n",
    "<td>X&lt;Y</td>\n",
    "</tr>\n",
    "<tr>\n",
    "<td>&gt;</td>\n",
    "<td>Jika Nilai dari x besar dari y akan bernilai true, jika sebaliknya bernilai false</td>\n",
    "<td>X&gt;Y</td>\n",
    "</tr>\n",
    "<tr>\n",
    "<td>&lt;=</td>\n",
    "<td>Jika nilai x lebih kecil atau sama dengan y, maka bernilai true, jika lebih besar maka bernilai false</td>\n",
    "<td>X&lt;=Y</td>\n",
    "</tr>\n",
    "<tr>\n",
    "<td>&gt;=</td>\n",
    "<td>Jika nilai x lebih besar atau sama dengan y, maka bernilai true, jika lebih besar maka bernilai false</td>\n",
    "<td>X&gt;=Y</td>\n",
    "</tr>\n",
    "<tr>\n",
    "<td>==</td>\n",
    "<td>Jika x sama dengan y maka aka bernilai true jika tidak akan bernilai false</td>\n",
    "<td>X==Y</td>\n",
    "</tr>\n",
    "<tr>\n",
    "<td>!=</td>\n",
    "<td>Jika x tidak sama dengan y maka akan bernilai true, sebaliknya bernilai false</td>\n",
    "<td>X!=Y</td>\n",
    "</tr>\n",
    "\n",
    "</table>"
   ]
  },
  {
   "cell_type": "code",
   "execution_count": 27,
   "metadata": {},
   "outputs": [
    {
     "name": "stdout",
     "output_type": "stream",
     "text": [
      "X= 5 Y= 7 X<Y is True\n",
      "X= 5 Y= 7 X>Y is False\n",
      "X= 5 Y= 7 X<Y is True\n",
      "X= 5 Y= 7 X>Y is False\n",
      "X= 5 Y= 7 X==Y is False\n",
      "X= 5 Y= 7 X!=Y is True\n"
     ]
    }
   ],
   "source": [
    "X=5\n",
    "Y=7\n",
    "print (\"X=\",X, \"Y=\",Y,\"X<Y is\",X<Y)\n",
    "print (\"X=\",X, \"Y=\",Y, \"X>Y is\", X>Y)\n",
    "print (\"X=\",X, \"Y=\",Y,\"X<Y is\",X<=Y)\n",
    "print (\"X=\",X, \"Y=\",Y, \"X>Y is\", X>=Y)\n",
    "print (\"X=\",X, \"Y=\",Y,\"X==Y is\",X==Y)\n",
    "print (\"X=\",X, \"Y=\",Y,\"X!=Y is\",X!=Y)"
   ]
  },
  {
   "cell_type": "code",
   "execution_count": 28,
   "metadata": {},
   "outputs": [
    {
     "name": "stdout",
     "output_type": "stream",
     "text": [
      "True\n",
      "False\n"
     ]
    }
   ],
   "source": [
    "## chained comparison operator\n",
    "\n",
    "a = 5; b = 7; c = 3\n",
    "print(a<b>c)\n",
    "print(a<b<c)"
   ]
  },
  {
   "cell_type": "markdown",
   "metadata": {},
   "source": [
    "## Logical Operator"
   ]
  },
  {
   "cell_type": "markdown",
   "metadata": {},
   "source": [
    "\n",
    "<div style=\"display:flex; flex-direction:row; gap:10px\" >\n",
    "    <table class=\"table table-bordered\">\n",
    "    <tr>\n",
    "    <th style=\"width:20%\">X</th><th style=\"width:20%\">Y</th><th style=\"width:70%\">X and Y</th>\n",
    "    </tr>\n",
    "    <tr>\n",
    "    <td><p style=\"color:red; text-align:center\">False</p></td>\n",
    "    <td><p style=\"color:red; text-align:center\">False</p></td>\n",
    "    <td><p style=\"color:red; text-align:center\">False</p></td>\n",
    "    </tr>\n",
    "    <tr>\n",
    "    <td><p style=\"color:red; text-align:center\">False</p></td>\n",
    "    <td><p style=\"color:green; text-align:center\">True</p></td>\n",
    "    <td><p style=\"color:red; text-align:center\">False</p></td>\n",
    "    </tr>\n",
    "    <tr>\n",
    "    <td><p style=\"color:green; text-align:center\">True</p></td>\n",
    "    <td><p style=\"color:red; text-align:center\">False</p></td>\n",
    "    <td><p style=\"color:red; text-align:center\">False</p></td>\n",
    "    </tr>\n",
    "    <tr>\n",
    "    <td><p style=\"color:green; text-align:center\">True</p></td>\n",
    "    <td><p style=\"color:green; text-align:center\">True</p></td>\n",
    "    <td><p style=\"color:green; text-align:center\">True</p></td>\n",
    "    </tr>\n",
    "    </table>\n",
    "    <table class=\"table table-bordered\">\n",
    "    <tr>\n",
    "    <th style=\"width:20%\">X</th><th style=\"width:20%\">Y</th><th style=\"width:70%\">X or Y</th>\n",
    "    </tr>\n",
    "    <tr>\n",
    "    <td><p style=\"color:red; text-align:center\">False</p></td>\n",
    "    <td><p style=\"color:red; text-align:center\">False</p></td>\n",
    "    <td><p style=\"color:red; text-align:center\">False</p></td>\n",
    "    </tr>\n",
    "    <tr>\n",
    "    <td><p style=\"color:red; text-align:center\">False</p></td>\n",
    "    <td><p style=\"color:green; text-align:center\">True</p></td>\n",
    "    <td><p style=\"color:green; text-align:center\">True</p></td>\n",
    "    </tr>\n",
    "    <tr>\n",
    "    <td><p style=\"color:green; text-align:center\">True</p></td>\n",
    "    <td><p style=\"color:red; text-align:center\">False</p></td>\n",
    "    <td><p style=\"color:green; text-align:center\">True</p></td>\n",
    "    </tr>\n",
    "    <tr>\n",
    "    <td><p style=\"color:green; text-align:center\">True</p></td>\n",
    "    <td><p style=\"color:green; text-align:center\">True</p></td>\n",
    "    <td><p style=\"color:green; text-align:center\">True</p></td>\n",
    "    </tr>\n",
    "    </table>\n",
    "    <table class=\"table table-bordered\">\n",
    "    <tr>\n",
    "    <th style=\"width:20%\">X</th><th style=\"width:20%\">not(X)</th>\n",
    "    </tr>\n",
    "    <tr>\n",
    "    <td><p style=\"color:red; text-align:center\">False</p></td>\n",
    "    <td><p style=\"color:green; text-align:center\">True</p></td>\n",
    "    </tr>\n",
    "    <tr>\n",
    "    <td><p style=\"color:green; text-align:center\">True</p></td>\n",
    "    <td><p style=\"color:red; text-align:center\">False</p></td>\n",
    "    </tr>\n",
    "    </table>  \n",
    "</div>\n"
   ]
  },
  {
   "cell_type": "code",
   "execution_count": 29,
   "metadata": {},
   "outputs": [
    {
     "name": "stdout",
     "output_type": "stream",
     "text": [
      "False\n",
      "False\n",
      "False\n",
      "True\n"
     ]
    }
   ],
   "source": [
    "## and operator\n",
    "\n",
    "a = 5; b = 7\n",
    "false_value_ab = a>b\n",
    "true_value_ab = a<=b\n",
    "\n",
    "c = 3; d = 5\n",
    "false_value_cd = c == d\n",
    "true_value_cd = c != d\n",
    "\n",
    "print(false_value_ab and false_value_cd)\n",
    "print(false_value_ab and true_value_cd)\n",
    "print(true_value_ab and false_value_cd)\n",
    "print(true_value_ab and true_value_cd)"
   ]
  },
  {
   "cell_type": "code",
   "execution_count": 31,
   "metadata": {},
   "outputs": [
    {
     "name": "stdout",
     "output_type": "stream",
     "text": [
      "False\n",
      "True\n",
      "True\n",
      "True\n"
     ]
    }
   ],
   "source": [
    "## or operator\n",
    "\n",
    "a = 5; b = 7\n",
    "false_value_ab = a>b\n",
    "true_value_ab = a<=b\n",
    "\n",
    "c = 3; d = 5\n",
    "false_value_cd = c == d\n",
    "true_value_cd = c != d\n",
    "\n",
    "print(false_value_ab or false_value_cd)\n",
    "print(false_value_ab or true_value_cd)\n",
    "print(true_value_ab or false_value_cd)\n",
    "print(true_value_ab or true_value_cd)"
   ]
  },
  {
   "cell_type": "code",
   "execution_count": 32,
   "metadata": {},
   "outputs": [
    {
     "name": "stdout",
     "output_type": "stream",
     "text": [
      "True\n",
      "False\n",
      "True\n",
      "False\n"
     ]
    }
   ],
   "source": [
    "## not operator\n",
    "\n",
    "a = 5; b = 7\n",
    "false_value_ab = a>b\n",
    "true_value_ab = a<=b\n",
    "\n",
    "c = 3; d = 5\n",
    "false_value_cd = c == d\n",
    "true_value_cd = c != d\n",
    "\n",
    "print(not(false_value_ab))\n",
    "print(not(true_value_ab))\n",
    "print(not(false_value_cd))\n",
    "print(not(true_value_cd))"
   ]
  },
  {
   "cell_type": "code",
   "execution_count": null,
   "metadata": {},
   "outputs": [],
   "source": []
  }
 ],
 "metadata": {
  "kernelspec": {
   "display_name": "Python 3",
   "language": "python",
   "name": "python3"
  },
  "language_info": {
   "codemirror_mode": {
    "name": "ipython",
    "version": 3
   },
   "file_extension": ".py",
   "mimetype": "text/x-python",
   "name": "python",
   "nbconvert_exporter": "python",
   "pygments_lexer": "ipython3",
   "version": "3.11.0"
  }
 },
 "nbformat": 4,
 "nbformat_minor": 2
}
