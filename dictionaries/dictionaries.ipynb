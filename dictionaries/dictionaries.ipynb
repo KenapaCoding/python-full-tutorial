{
 "cells": [
  {
   "cell_type": "markdown",
   "metadata": {},
   "source": [
    "# DICTIONARIES"
   ]
  },
  {
   "cell_type": "markdown",
   "metadata": {},
   "source": [
    "## Apa Itu Dictionary?\n",
    "* Dictionary di python merupakan salah satu mapping type atau tipe data mapping.\n",
    "* Setiap item dari dictionaries terdiri dari key dan value ‘key : value’ .\n",
    "* Setiap item dipisahkan dengan koma dan dikurung oleh { } \n"
   ]
  },
  {
   "cell_type": "markdown",
   "metadata": {},
   "source": [
    "## Membuat dictionary"
   ]
  },
  {
   "cell_type": "markdown",
   "metadata": {},
   "source": []
  },
  {
   "cell_type": "code",
   "execution_count": 2,
   "metadata": {},
   "outputs": [],
   "source": [
    "# Membuat dictionary\n",
    "d = {'key1':'value1','key2':'value2'}"
   ]
  },
  {
   "cell_type": "code",
   "execution_count": 3,
   "metadata": {},
   "outputs": [],
   "source": [
    "dict_product = {\"HP\":[\"samsung\",\"apple\"], \"Perabotan\":[\"meja\", \"kursi\",\"lemari\"], \"Jam\": [\"rolex\", \"casio\"]}"
   ]
  },
  {
   "cell_type": "code",
   "execution_count": 6,
   "metadata": {},
   "outputs": [
    {
     "data": {
      "text/plain": [
       "['samsung', 'apple']"
      ]
     },
     "execution_count": 6,
     "metadata": {},
     "output_type": "execute_result"
    }
   ],
   "source": [
    "# Access dictionary\n",
    "dict_product[\"HP\"]"
   ]
  },
  {
   "cell_type": "code",
   "execution_count": 7,
   "metadata": {},
   "outputs": [
    {
     "data": {
      "text/plain": [
       "['meja', 'kursi', 'lemari']"
      ]
     },
     "execution_count": 7,
     "metadata": {},
     "output_type": "execute_result"
    }
   ],
   "source": [
    "# Access dictionary with get method\n",
    "dict_product.get(\"Perabotan\")"
   ]
  },
  {
   "cell_type": "markdown",
   "metadata": {},
   "source": [
    "### beda [] dan get\n",
    "* [ ] kalau key tidak ada dalam dictionary maka akan error\n",
    "* `get()` tidak eror apabila key tidak ditemukan dan terdapat opsional argument yang di return apabila key tidak ditemukan"
   ]
  },
  {
   "cell_type": "code",
   "execution_count": null,
   "metadata": {},
   "outputs": [],
   "source": [
    "\n",
    "dict_product[\"Hp\"]"
   ]
  },
  {
   "cell_type": "code",
   "execution_count": null,
   "metadata": {},
   "outputs": [],
   "source": [
    "dict_product.get(\"Hp\")"
   ]
  },
  {
   "cell_type": "code",
   "execution_count": 10,
   "metadata": {},
   "outputs": [
    {
     "data": {
      "text/plain": [
       "'Item not Found'"
      ]
     },
     "execution_count": 10,
     "metadata": {},
     "output_type": "execute_result"
    }
   ],
   "source": [
    "dict_product.get(\"Hp\", \"Item not Found\")"
   ]
  },
  {
   "cell_type": "code",
   "execution_count": 11,
   "metadata": {},
   "outputs": [
    {
     "name": "stdout",
     "output_type": "stream",
     "text": [
      "{'nama': 'ranggo', 'umur': 25}\n"
     ]
    }
   ],
   "source": [
    "# membuat dictionary dengan dict()\n",
    "\n",
    "d = dict(nama = 'ranggo', umur = 25)\n",
    "print(d)"
   ]
  },
  {
   "cell_type": "code",
   "execution_count": 18,
   "metadata": {},
   "outputs": [
    {
     "name": "stdout",
     "output_type": "stream",
     "text": [
      "{'a': 25, 'b': 40}\n"
     ]
    }
   ],
   "source": [
    "# membuat dictionary dengan tuple \n",
    "t1 = ('a',25)\n",
    "t2 = ('b', 40)\n",
    "d = dict((t1,t2))\n",
    "print(d)"
   ]
  },
  {
   "cell_type": "markdown",
   "metadata": {},
   "source": [
    "## Tambah dictionary Item"
   ]
  },
  {
   "cell_type": "code",
   "execution_count": 19,
   "metadata": {},
   "outputs": [
    {
     "name": "stdout",
     "output_type": "stream",
     "text": [
      "{'HP': ['samsung', 'apple'], 'Perabotan': ['meja', 'kursi', 'lemari'], 'Jam': ['rolex', 'casio']}\n"
     ]
    }
   ],
   "source": [
    "dict_product = {\"HP\":[\"samsung\",\"apple\"], \"Perabotan\":[\"meja\", \"kursi\",\"lemari\"], \"Jam\": [\"rolex\", \"casio\"]}\n",
    "print(dict_product)"
   ]
  },
  {
   "cell_type": "code",
   "execution_count": 20,
   "metadata": {},
   "outputs": [],
   "source": [
    "# tambah dict dengan [ ]\n",
    "dict_product['Mobil'] = [\"Mustang\", \"Audi\", \"Tesla\"]"
   ]
  },
  {
   "cell_type": "code",
   "execution_count": 21,
   "metadata": {},
   "outputs": [
    {
     "name": "stdout",
     "output_type": "stream",
     "text": [
      "{'HP': ['samsung', 'apple'], 'Perabotan': ['meja', 'kursi', 'lemari'], 'Jam': ['rolex', 'casio'], 'Mobil': ['Mustang', 'Audi', 'Tesla']}\n"
     ]
    }
   ],
   "source": [
    "print(dict_product)"
   ]
  },
  {
   "cell_type": "code",
   "execution_count": 26,
   "metadata": {},
   "outputs": [
    {
     "name": "stdout",
     "output_type": "stream",
     "text": [
      "{'HP': ['samsung', 'apple'], 'Perabotan': ['meja', 'kursi', 'lemari'], 'Jam': ['rolex', 'casio']}\n",
      "{'Perabotan': ['meja', 'kursi', 'lemari'], 'Jam': ['rolex', 'casio'], 'Mobil': ['Mustang', 'Audi', 'Tesla']}\n"
     ]
    }
   ],
   "source": [
    "dict_product = {\"HP\":[\"samsung\",\"apple\"], \"Perabotan\":[\"meja\", \"kursi\",\"lemari\"], \"Jam\": [\"rolex\", \"casio\"]}\n",
    "dict_update = {'Perabotan': ['meja', 'kursi', 'lemari'], 'Jam': ['rolex', 'casio'], 'Mobil': ['Mustang', 'Audi', 'Tesla']}\n",
    "print(dict_product)\n",
    "print(dict_update)"
   ]
  },
  {
   "cell_type": "code",
   "execution_count": 27,
   "metadata": {},
   "outputs": [
    {
     "name": "stdout",
     "output_type": "stream",
     "text": [
      "{'HP': ['samsung', 'apple'], 'Perabotan': ['meja', 'kursi', 'lemari'], 'Jam': ['rolex', 'casio'], 'Mobil': ['Mustang', 'Audi', 'Tesla']}\n"
     ]
    }
   ],
   "source": [
    "# tambah dictionary dengan update method\n",
    "dict_product.update(dict_update)\n",
    "print(dict_product)"
   ]
  },
  {
   "cell_type": "code",
   "execution_count": 28,
   "metadata": {},
   "outputs": [
    {
     "name": "stdout",
     "output_type": "stream",
     "text": [
      "{'Perabotan': ['meja', 'kursi', 'lemari'], 'Jam': ['rolex', 'casio'], 'Mobil': ['Mustang', 'Audi', 'Tesla']}\n",
      "{'HP': ['samsung', 'apple'], 'Perabotan': ['meja', 'kursi', 'lemari'], 'Jam': ['rolex', 'casio']}\n",
      "{'HP': ['samsung', 'apple'], 'Perabotan': ['meja', 'kursi', 'lemari'], 'Jam': ['rolex', 'casio'], 'Mobil': ['Mustang', 'Audi', 'Tesla']}\n"
     ]
    }
   ],
   "source": [
    "# dengan unpack operator\n",
    "dict_product = {\"HP\":[\"samsung\",\"apple\"], \"Perabotan\":[\"meja\", \"kursi\",\"lemari\"], \"Jam\": [\"rolex\", \"casio\"]}\n",
    "dict_update = {'Perabotan': ['meja', 'kursi', 'lemari'], 'Jam': ['rolex', 'casio'], 'Mobil': ['Mustang', 'Audi', 'Tesla']}\n",
    "new_dict = {**dict_product, **dict_update}\n",
    "print(dict_update)\n",
    "print(dict_product)\n",
    "print(new_dict)"
   ]
  },
  {
   "cell_type": "code",
   "execution_count": 38,
   "metadata": {},
   "outputs": [
    {
     "name": "stdout",
     "output_type": "stream",
     "text": [
      "{'HP': ['samsung', 'apple'], 'Perabotan': ['meja', 'kursi', 'lemari'], 'Jam': ['rolex', 'casio'], 'Mobil': ['Mustang', 'Audi', 'Tesla']}\n"
     ]
    }
   ],
   "source": [
    "#Union operator \n",
    "dict_product = {\"HP\":[\"samsung\",\"apple\"], \"Perabotan\":[\"meja\", \"kursi\",\"lemari\"], \"Jam\": [\"rolex\", \"casio\"]}\n",
    "dict_update = {'Perabotan': ['meja', 'kursi', 'lemari'], 'Jam': ['rolex', 'casio'], 'Mobil': ['Mustang', 'Audi', 'Tesla']}\n",
    "new_dict = dict_product | dict_update\n",
    "print(new_dict)\n"
   ]
  },
  {
   "cell_type": "code",
   "execution_count": 37,
   "metadata": {},
   "outputs": [
    {
     "name": "stdout",
     "output_type": "stream",
     "text": [
      "{'HP': ['samsung', 'apple'], 'Perabotan': ['meja', 'kursi', 'lemari'], 'Jam': ['rolex', 'casio'], 'Mobil': ['Mustang', 'Audi', 'Tesla']}\n"
     ]
    }
   ],
   "source": [
    "#Union operator \n",
    "dict_product = {\"HP\":[\"samsung\",\"apple\"], \"Perabotan\":[\"meja\", \"kursi\",\"lemari\"], \"Jam\": [\"rolex\", \"casio\"]}\n",
    "dict_update = {'Perabotan': ['meja', 'kursi', 'lemari'], 'Jam': ['rolex', 'casio'], 'Mobil': ['Mustang', 'Audi', 'Tesla']}\n",
    "dict_product |= dict_update\n",
    "print(dict_product)"
   ]
  },
  {
   "cell_type": "markdown",
   "metadata": {},
   "source": [
    "### Hapus dictionary item"
   ]
  },
  {
   "cell_type": "code",
   "execution_count": 29,
   "metadata": {},
   "outputs": [],
   "source": [
    "d = {1:'satu', 3: \"ikan\", \"cinta\": \"buta\", \"hapus\":\"tolong hapus\"}"
   ]
  },
  {
   "cell_type": "code",
   "execution_count": 30,
   "metadata": {},
   "outputs": [
    {
     "name": "stdout",
     "output_type": "stream",
     "text": [
      "{1: 'satu', 3: 'ikan', 'cinta': 'buta'}\n"
     ]
    }
   ],
   "source": [
    "del d[\"hapus\"]\n",
    "print(d)"
   ]
  },
  {
   "cell_type": "code",
   "execution_count": 31,
   "metadata": {},
   "outputs": [],
   "source": [
    "d = {1:'satu', 3: \"ikan\", \"cinta\": \"buta\", \"hapus\":\"tolong hapus\"}\n",
    "val = d.pop('hapus')"
   ]
  },
  {
   "cell_type": "code",
   "execution_count": 32,
   "metadata": {},
   "outputs": [
    {
     "name": "stdout",
     "output_type": "stream",
     "text": [
      "tolong hapus\n",
      "{1: 'satu', 3: 'ikan', 'cinta': 'buta'}\n"
     ]
    }
   ],
   "source": [
    "print(val)\n",
    "print(d)"
   ]
  },
  {
   "cell_type": "code",
   "execution_count": 34,
   "metadata": {},
   "outputs": [
    {
     "name": "stdout",
     "output_type": "stream",
     "text": [
      "('hapus', 'tolong hapus')\n",
      "{1: 'satu', 3: 'ikan', 'cinta': 'buta'}\n"
     ]
    }
   ],
   "source": [
    "d = {1:'satu', 3: \"ikan\", \"cinta\": \"buta\", \"hapus\":\"tolong hapus\"}\n",
    "val = d.popitem()\n",
    "print(val)\n",
    "print(d)"
   ]
  },
  {
   "cell_type": "code",
   "execution_count": 35,
   "metadata": {},
   "outputs": [
    {
     "name": "stdout",
     "output_type": "stream",
     "text": [
      "{}\n"
     ]
    }
   ],
   "source": [
    "d.clear()\n",
    "print(d)"
   ]
  },
  {
   "cell_type": "markdown",
   "metadata": {},
   "source": [
    "## Beberapa method dictionary"
   ]
  },
  {
   "cell_type": "code",
   "execution_count": 39,
   "metadata": {},
   "outputs": [],
   "source": [
    "d = {1:'satu', 3: \"ikan\", \"cinta\": \"buta\", \"hapus\":\"tolong hapus\"}"
   ]
  },
  {
   "cell_type": "code",
   "execution_count": 40,
   "metadata": {},
   "outputs": [
    {
     "data": {
      "text/plain": [
       "dict_values(['satu', 'ikan', 'buta', 'tolong hapus'])"
      ]
     },
     "execution_count": 40,
     "metadata": {},
     "output_type": "execute_result"
    }
   ],
   "source": [
    "# Method untuk mengambil semua value\n",
    "d.values()"
   ]
  },
  {
   "cell_type": "code",
   "execution_count": 42,
   "metadata": {},
   "outputs": [
    {
     "data": {
      "text/plain": [
       "dict_keys([1, 3, 'cinta', 'hapus'])"
      ]
     },
     "execution_count": 42,
     "metadata": {},
     "output_type": "execute_result"
    }
   ],
   "source": [
    "# Method untuk mengambil semua key\n",
    "d.keys()"
   ]
  },
  {
   "cell_type": "code",
   "execution_count": 41,
   "metadata": {},
   "outputs": [
    {
     "data": {
      "text/plain": [
       "dict_items([(1, 'satu'), (3, 'ikan'), ('cinta', 'buta'), ('hapus', 'tolong hapus')])"
      ]
     },
     "execution_count": 41,
     "metadata": {},
     "output_type": "execute_result"
    }
   ],
   "source": [
    "# Method untuk mengambil semua tuple item\n",
    "d.items()"
   ]
  },
  {
   "cell_type": "markdown",
   "metadata": {},
   "source": [
    "## Copy pada dictionary"
   ]
  },
  {
   "cell_type": "code",
   "execution_count": 44,
   "metadata": {},
   "outputs": [
    {
     "name": "stdout",
     "output_type": "stream",
     "text": [
      "{1: 'satu', 3: 'ikan', 'cinta': 'buta', 'hapus': 'tolong hapus'} 1554769979776\n",
      "{1: 'satu', 3: 'ikan', 'cinta': 'buta', 'hapus': 'tolong hapus'} 1554769979776\n",
      "{1: 'satu', 3: 'ikan', 'cinta': 'buta', 'hapus': 'tolong hapus'} 1554770095616\n"
     ]
    }
   ],
   "source": [
    "d = {1:'satu', 3: \"ikan\", \"cinta\": \"buta\", \"hapus\":\"tolong hapus\"}\n",
    "d1 = d\n",
    "d2 = d1.copy()\n",
    "print(d, id(d))\n",
    "print(d1, id(d1))\n",
    "print(d2, id(d2))"
   ]
  },
  {
   "cell_type": "code",
   "execution_count": 46,
   "metadata": {},
   "outputs": [
    {
     "name": "stdout",
     "output_type": "stream",
     "text": [
      "{1: 'jadi satu', 3: 'ikan', 'cinta': 'buta', 'hapus': 'tolong hapus', 0: 'jadi satu'}\n",
      "{1: 'jadi satu', 3: 'ikan', 'cinta': 'buta', 'hapus': 'tolong hapus', 0: 'jadi satu'}\n",
      "{1: 'satu', 3: 'ikan', 'cinta': 'buta', 'hapus': 'tolong hapus'}\n"
     ]
    }
   ],
   "source": [
    "d[1] = 'jadi satu'\n",
    "print(d)\n",
    "print(d1)\n",
    "print(d2)"
   ]
  },
  {
   "cell_type": "markdown",
   "metadata": {},
   "source": [
    "### dictionary juga bisa berbentuk nested atau lebih compleks"
   ]
  },
  {
   "cell_type": "code",
   "execution_count": 49,
   "metadata": {},
   "outputs": [],
   "source": [
    "dict_product = {\"HP\":{\"samsung\",\"apple\"}, \"Perabotan\":[\"meja\", \"kursi\",\"lemari\"], \"Jam\": {\"rolex\", \"casio\"}}"
   ]
  },
  {
   "cell_type": "code",
   "execution_count": 48,
   "metadata": {},
   "outputs": [
    {
     "name": "stdout",
     "output_type": "stream",
     "text": [
      "{'HP': ['samsung', 'apple'], 'Perabotan': ['meja', 'kursi', 'lemari'], 'Jam': {'casio', 'rolex'}}\n"
     ]
    }
   ],
   "source": [
    "print(dict_product)"
   ]
  },
  {
   "cell_type": "code",
   "execution_count": null,
   "metadata": {},
   "outputs": [],
   "source": []
  }
 ],
 "metadata": {
  "kernelspec": {
   "display_name": "Python 3",
   "language": "python",
   "name": "python3"
  },
  "language_info": {
   "codemirror_mode": {
    "name": "ipython",
    "version": 3
   },
   "file_extension": ".py",
   "mimetype": "text/x-python",
   "name": "python",
   "nbconvert_exporter": "python",
   "pygments_lexer": "ipython3",
   "version": "3.11.0"
  }
 },
 "nbformat": 4,
 "nbformat_minor": 2
}
