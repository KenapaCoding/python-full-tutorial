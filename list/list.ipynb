{
 "cells": [
  {
   "cell_type": "markdown",
   "metadata": {},
   "source": [
    "# LIST"
   ]
  },
  {
   "cell_type": "markdown",
   "metadata": {},
   "source": [
    "## Apa Itu List?\n",
    "* List adalah salah satu jenis sequence di python sama seperti string dan tupple tetapi list bersifat mutable, artinya item atau elemen di dalam list dapat diganti.\n",
    "* Untuk membuat list dapat menggunakan [] sebagai wrap, dan memisahkan setiap item di dalam wrap dengan , `koma`  ."
   ]
  },
  {
   "cell_type": "code",
   "execution_count": 1,
   "metadata": {},
   "outputs": [
    {
     "name": "stdout",
     "output_type": "stream",
     "text": [
      "[1, 2, 3, 4, 5, 6] <class 'list'>\n"
     ]
    }
   ],
   "source": [
    "l = [1, 2, 3, 4, 5, 6]\n",
    "print(l, type(l))"
   ]
  },
  {
   "cell_type": "code",
   "execution_count": 2,
   "metadata": {},
   "outputs": [],
   "source": [
    "names = ['Agus', 'irsyad', 'Tio']"
   ]
  },
  {
   "cell_type": "markdown",
   "metadata": {},
   "source": [
    "## Access dan Modify List\n",
    "* Akses item di list\n",
    "* Change item di list\n",
    "* List operation\n"
   ]
  },
  {
   "cell_type": "code",
   "execution_count": 7,
   "metadata": {},
   "outputs": [
    {
     "name": "stdout",
     "output_type": "stream",
     "text": [
      "Agus\n",
      "irsyad\n",
      "Tio\n",
      "Jelisa\n"
     ]
    }
   ],
   "source": [
    "# Akses item di list\n",
    "names = ['Agus', 'irsyad', 'Tio', 'Jelisa', 'Rio']\n",
    "print(names[0])\n",
    "print(names[1])\n",
    "print(names[2])\n",
    "print(names[3])"
   ]
  },
  {
   "cell_type": "code",
   "execution_count": 8,
   "metadata": {},
   "outputs": [
    {
     "ename": "IndexError",
     "evalue": "list index out of range",
     "output_type": "error",
     "traceback": [
      "\u001b[1;31m---------------------------------------------------------------------------\u001b[0m",
      "\u001b[1;31mIndexError\u001b[0m                                Traceback (most recent call last)",
      "\u001b[1;32md:\\Programming\\Python\\pytutor\\list.ipynb Cell 7\u001b[0m line \u001b[0;36m1\n\u001b[1;32m----> <a href='vscode-notebook-cell:/d%3A/Programming/Python/pytutor/list.ipynb#X10sZmlsZQ%3D%3D?line=0'>1</a>\u001b[0m \u001b[39mprint\u001b[39m(names[\u001b[39m5\u001b[39;49m])\n",
      "\u001b[1;31mIndexError\u001b[0m: list index out of range"
     ]
    }
   ],
   "source": [
    "print(names[5])"
   ]
  },
  {
   "cell_type": "code",
   "execution_count": 9,
   "metadata": {},
   "outputs": [
    {
     "data": {
      "text/plain": [
       "['irsyad', 'Tio', 'Jelisa', 'Rio']"
      ]
     },
     "execution_count": 9,
     "metadata": {},
     "output_type": "execute_result"
    }
   ],
   "source": [
    "# Semua item list dari index 1\n",
    "names[1:]"
   ]
  },
  {
   "cell_type": "code",
   "execution_count": 11,
   "metadata": {},
   "outputs": [
    {
     "data": {
      "text/plain": [
       "['irsyad', 'Tio', 'Jelisa']"
      ]
     },
     "execution_count": 11,
     "metadata": {},
     "output_type": "execute_result"
    }
   ],
   "source": [
    "# item list dari index 1 sampai index 3\n",
    "names[1:4]"
   ]
  },
  {
   "cell_type": "code",
   "execution_count": 12,
   "metadata": {},
   "outputs": [
    {
     "name": "stdout",
     "output_type": "stream",
     "text": [
      "['Agus', 'irsyad', 'Tio', 'Jelisa', 'Rio']\n",
      "['Agus', 'Tio', 'Rio']\n",
      "['Rio', 'Jelisa', 'Tio', 'irsyad', 'Agus']\n",
      "['Agus', 'Tio', 'Rio']\n"
     ]
    }
   ],
   "source": [
    "# item list dengan melangkahi atau frekuensi\n",
    "print(names[::1])\n",
    "print(names[::2])\n",
    "print(names[::-1])\n",
    "print(names[:5:2])"
   ]
  },
  {
   "cell_type": "code",
   "execution_count": 13,
   "metadata": {},
   "outputs": [
    {
     "name": "stdout",
     "output_type": "stream",
     "text": [
      "['Agus', 'irsyad', 'Tio', 'Jelisa', 'Rio']\n"
     ]
    }
   ],
   "source": [
    "# Change item di list\n",
    "print(names)"
   ]
  },
  {
   "cell_type": "code",
   "execution_count": 15,
   "metadata": {},
   "outputs": [
    {
     "name": "stdout",
     "output_type": "stream",
     "text": [
      "['Dulikram', 'irsyad', 'Tio', 'Jelisa', 'Rio']\n"
     ]
    }
   ],
   "source": [
    "names[0] = \"Dulikram\"\n",
    "print(names)"
   ]
  },
  {
   "cell_type": "code",
   "execution_count": 17,
   "metadata": {},
   "outputs": [
    {
     "ename": "IndexError",
     "evalue": "list assignment index out of range",
     "output_type": "error",
     "traceback": [
      "\u001b[1;31m---------------------------------------------------------------------------\u001b[0m",
      "\u001b[1;31mIndexError\u001b[0m                                Traceback (most recent call last)",
      "\u001b[1;32md:\\Programming\\Python\\pytutor\\list.ipynb Cell 13\u001b[0m line \u001b[0;36m1\n\u001b[1;32m----> <a href='vscode-notebook-cell:/d%3A/Programming/Python/pytutor/list.ipynb#X20sZmlsZQ%3D%3D?line=0'>1</a>\u001b[0m names[\u001b[39m5\u001b[39;49m] \u001b[39m=\u001b[39m \u001b[39m\"\u001b[39m\u001b[39mRiza\u001b[39m\u001b[39m\"\u001b[39m\n",
      "\u001b[1;31mIndexError\u001b[0m: list assignment index out of range"
     ]
    }
   ],
   "source": [
    "names[5] = \"Riza\""
   ]
  },
  {
   "cell_type": "code",
   "execution_count": 16,
   "metadata": {},
   "outputs": [
    {
     "name": "stdout",
     "output_type": "stream",
     "text": [
      "concatenate_list [1, 2, 3, 5, 6]\n",
      "repeat_list [1, 2, 4, 1, 2, 4, 1, 2, 4]\n",
      "check_list True\n"
     ]
    }
   ],
   "source": [
    "# concatenate\n",
    "numbers_concate = [1,2,3] + [5,6]\n",
    "# repeat\n",
    "numbers_repeat = [1,2,4] * 3\n",
    "# check\n",
    "numbers_check = 4 in [1,2,4,8,9]\n",
    "\n",
    "print('concatenate_list', numbers_concate)\n",
    "print('repeat_list', numbers_repeat)\n",
    "print('check_list', numbers_check)"
   ]
  },
  {
   "cell_type": "markdown",
   "metadata": {},
   "source": [
    "## List Method\n",
    "* Append method\n",
    "* Reverse method\n",
    "* Pop method\n",
    "* Sort method\n",
    "* Copy method\n",
    "* Clear method\n",
    "* Insert method\n",
    "* Remove method\n",
    "* Count method\n",
    "* Index method"
   ]
  },
  {
   "cell_type": "code",
   "execution_count": 18,
   "metadata": {},
   "outputs": [
    {
     "data": {
      "text/plain": [
       "['Dulikram', 'irsyad', 'Tio', 'Jelisa', 'Rio']"
      ]
     },
     "execution_count": 18,
     "metadata": {},
     "output_type": "execute_result"
    }
   ],
   "source": [
    "names"
   ]
  },
  {
   "cell_type": "code",
   "execution_count": 19,
   "metadata": {},
   "outputs": [
    {
     "name": "stdout",
     "output_type": "stream",
     "text": [
      "['Dulikram', 'irsyad', 'Tio', 'Jelisa', 'Rio', 'sukiman']\n"
     ]
    }
   ],
   "source": [
    "# append method\n",
    "names.append('sukiman')\n",
    "print(names)"
   ]
  },
  {
   "cell_type": "code",
   "execution_count": 24,
   "metadata": {},
   "outputs": [
    {
     "name": "stdout",
     "output_type": "stream",
     "text": [
      "['sukiman', 'Rio', 'Jelisa', 'Tio', 'irsyad', 'Dulikram']\n"
     ]
    }
   ],
   "source": [
    "# reverse method\n",
    "names.reverse()\n",
    "print(names)"
   ]
  },
  {
   "cell_type": "code",
   "execution_count": 25,
   "metadata": {},
   "outputs": [
    {
     "name": "stdout",
     "output_type": "stream",
     "text": [
      "['sukiman', 'Rio', 'Jelisa', 'Tio', 'irsyad', 'Dulikram']\n",
      "['sukiman', 'Rio', 'Jelisa', 'Tio', 'irsyad']\n"
     ]
    }
   ],
   "source": [
    "# pop method\n",
    "print(names)\n",
    "names.pop()\n",
    "print(names)"
   ]
  },
  {
   "cell_type": "code",
   "execution_count": 26,
   "metadata": {},
   "outputs": [
    {
     "name": "stdout",
     "output_type": "stream",
     "text": [
      "['Jelisa', 'Rio', 'Tio', 'irsyad', 'sukiman']\n"
     ]
    }
   ],
   "source": [
    "# sort method\n",
    "names.sort()\n",
    "print(names)"
   ]
  },
  {
   "cell_type": "code",
   "execution_count": 29,
   "metadata": {},
   "outputs": [
    {
     "name": "stdout",
     "output_type": "stream",
     "text": [
      "['Irsyad', 'Jelisa', 'Rio', 'Sukiman', 'Tio']\n"
     ]
    }
   ],
   "source": [
    "names2 = ['Jelisa', 'Rio', 'Tio', 'Irsyad', 'Sukiman']\n",
    "names2.sort()\n",
    "print(names2)"
   ]
  },
  {
   "cell_type": "code",
   "execution_count": 31,
   "metadata": {},
   "outputs": [
    {
     "name": "stdout",
     "output_type": "stream",
     "text": [
      "['Irsyad', 'Jelisa', 'Rio', 'Sukiman', 'Tio']\n",
      "['Irsyad', 'Jelisa', 'Rio', 'Sukiman', 'Tukul']\n"
     ]
    }
   ],
   "source": [
    "names3 = names2.copy()\n",
    "names3.pop()\n",
    "names3.append(\"Tukul\")\n",
    "print(names2)\n",
    "print(names3)"
   ]
  },
  {
   "cell_type": "code",
   "execution_count": 37,
   "metadata": {},
   "outputs": [],
   "source": [
    "names3.insert(1,\"inserting name\")"
   ]
  },
  {
   "cell_type": "code",
   "execution_count": 38,
   "metadata": {},
   "outputs": [
    {
     "name": "stdout",
     "output_type": "stream",
     "text": [
      "['Irsyad', 'inserting name', 'Jelisa', 'Rio', 'Sukiman', 'Tukul', 'inserting name', 'inserting name']\n"
     ]
    }
   ],
   "source": [
    "print(names3)"
   ]
  },
  {
   "cell_type": "code",
   "execution_count": 40,
   "metadata": {},
   "outputs": [
    {
     "name": "stdout",
     "output_type": "stream",
     "text": [
      "['Irsyad', 'Jelisa', 'Rio', 'Sukiman', 'Tukul', 'inserting name']\n"
     ]
    }
   ],
   "source": [
    "names3.remove(\"inserting name\")\n",
    "print(names3)"
   ]
  },
  {
   "cell_type": "code",
   "execution_count": 41,
   "metadata": {},
   "outputs": [],
   "source": [
    "#clear \n",
    "names3.clear()"
   ]
  },
  {
   "cell_type": "code",
   "execution_count": 42,
   "metadata": {},
   "outputs": [
    {
     "name": "stdout",
     "output_type": "stream",
     "text": [
      "[]\n"
     ]
    }
   ],
   "source": [
    "print(names3)"
   ]
  },
  {
   "cell_type": "code",
   "execution_count": 50,
   "metadata": {},
   "outputs": [
    {
     "name": "stdout",
     "output_type": "stream",
     "text": [
      "['Irsyad', 'Jelisa', 'Rio', 'Sukiman', 'Tio']\n"
     ]
    },
    {
     "data": {
      "text/plain": [
       "1"
      ]
     },
     "execution_count": 50,
     "metadata": {},
     "output_type": "execute_result"
    }
   ],
   "source": [
    "# count \n",
    "names3 = names2.copy()\n",
    "print(names3)\n",
    "names3.count('Jelisa')"
   ]
  },
  {
   "cell_type": "code",
   "execution_count": 48,
   "metadata": {},
   "outputs": [
    {
     "data": {
      "text/plain": [
       "3"
      ]
     },
     "execution_count": 48,
     "metadata": {},
     "output_type": "execute_result"
    }
   ],
   "source": [
    "# index\n",
    "names3.index('Sukiman')"
   ]
  },
  {
   "cell_type": "markdown",
   "metadata": {},
   "source": [
    "## List Comprehension"
   ]
  },
  {
   "cell_type": "code",
   "execution_count": 52,
   "metadata": {},
   "outputs": [
    {
     "name": "stdout",
     "output_type": "stream",
     "text": [
      "['w', 'l', 'c', 'm', ' ', 't', ' ', 'k', 'n', 'p', ' ', 'c', 'd', 'n', 'g']\n"
     ]
    }
   ],
   "source": [
    "chars = [ char for char in 'welcome to kenapa coding' if char not in 'aeiou']\n",
    "print (chars)"
   ]
  },
  {
   "cell_type": "code",
   "execution_count": 53,
   "metadata": {},
   "outputs": [
    {
     "name": "stdout",
     "output_type": "stream",
     "text": [
      "[1, 4, 9, 16, 25, 36, 49, 64, 81, 100]\n"
     ]
    }
   ],
   "source": [
    "squares = [x*x for x in range(1,11)]\n",
    "print (squares)"
   ]
  },
  {
   "cell_type": "code",
   "execution_count": null,
   "metadata": {},
   "outputs": [],
   "source": []
  }
 ],
 "metadata": {
  "kernelspec": {
   "display_name": "Python 3",
   "language": "python",
   "name": "python3"
  },
  "language_info": {
   "codemirror_mode": {
    "name": "ipython",
    "version": 3
   },
   "file_extension": ".py",
   "mimetype": "text/x-python",
   "name": "python",
   "nbconvert_exporter": "python",
   "pygments_lexer": "ipython3",
   "version": "3.11.0"
  }
 },
 "nbformat": 4,
 "nbformat_minor": 2
}
