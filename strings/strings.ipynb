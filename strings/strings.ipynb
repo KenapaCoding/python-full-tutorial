{
 "cells": [
  {
   "cell_type": "markdown",
   "metadata": {},
   "source": [
    "# STRINGS"
   ]
  },
  {
   "cell_type": "markdown",
   "metadata": {},
   "source": [
    "## Pengertian dan Penggunaan String\n",
    "* String adalah kumpulan karakter dan bersifat immutable atau tidak dapat diubah.\n"
   ]
  },
  {
   "cell_type": "code",
   "execution_count": 9,
   "metadata": {},
   "outputs": [],
   "source": [
    "welcome = 'Welcome to kenapa coding channel'\n"
   ]
  },
  {
   "cell_type": "code",
   "execution_count": 11,
   "metadata": {},
   "outputs": [
    {
     "ename": "TypeError",
     "evalue": "'str' object does not support item assignment",
     "output_type": "error",
     "traceback": [
      "\u001b[1;31m---------------------------------------------------------------------------\u001b[0m",
      "\u001b[1;31mTypeError\u001b[0m                                 Traceback (most recent call last)",
      "\u001b[1;32md:\\Programming\\Python\\pytutor\\strings.ipynb Cell 4\u001b[0m line \u001b[0;36m1\n\u001b[1;32m----> <a href='vscode-notebook-cell:/d%3A/Programming/Python/pytutor/strings.ipynb#X11sZmlsZQ%3D%3D?line=0'>1</a>\u001b[0m welcome[\u001b[39m0\u001b[39;49m] \u001b[39m=\u001b[39m \u001b[39m\"\u001b[39m\u001b[39my\u001b[39m\u001b[39m\"\u001b[39m\n",
      "\u001b[1;31mTypeError\u001b[0m: 'str' object does not support item assignment"
     ]
    }
   ],
   "source": [
    "welcome[0] = \"y\""
   ]
  },
  {
   "cell_type": "code",
   "execution_count": null,
   "metadata": {},
   "outputs": [],
   "source": []
  },
  {
   "cell_type": "markdown",
   "metadata": {},
   "source": [
    "## Slicing String\n",
    "* String adalah sequence , jadi kita bisa menggunakan indexes untuk mengakses sequence string.\n",
    "* Seperti kita tahu index pada sequence dimulai dari 0.\n",
    "* Kita dapat menggunakan : untuk melakukan slicing untuk mengambil sequence pada titik yang ditentukan.\n",
    "* Kita juga dapat menggunakan :: untuk melakukan frekuensi dalam slicing.\n"
   ]
  },
  {
   "cell_type": "code",
   "execution_count": 13,
   "metadata": {},
   "outputs": [
    {
     "name": "stdout",
     "output_type": "stream",
     "text": [
      "W\n",
      "e\n",
      "t\n",
      "m\n"
     ]
    }
   ],
   "source": [
    "welcome = 'Welcome to kenapa coding channel'\n",
    "print(welcome[0])\n",
    "print(welcome[12])\n",
    "print(welcome[8])\n",
    "print(welcome[5])\n"
   ]
  },
  {
   "cell_type": "code",
   "execution_count": 14,
   "metadata": {},
   "outputs": [
    {
     "data": {
      "text/plain": [
       "'elcome to kenapa coding channel'"
      ]
     },
     "execution_count": 14,
     "metadata": {},
     "output_type": "execute_result"
    }
   ],
   "source": [
    "# Semua item string dari index 1\n",
    "welcome[1:]"
   ]
  },
  {
   "cell_type": "code",
   "execution_count": 16,
   "metadata": {},
   "outputs": [
    {
     "data": {
      "text/plain": [
       "'elcom'"
      ]
     },
     "execution_count": 16,
     "metadata": {},
     "output_type": "execute_result"
    }
   ],
   "source": [
    "# item string dari index 1 sampai index 5\n",
    "welcome[1:6]"
   ]
  },
  {
   "cell_type": "code",
   "execution_count": 25,
   "metadata": {},
   "outputs": [
    {
     "name": "stdout",
     "output_type": "stream",
     "text": [
      "Welcome to kenapa coding channel\n",
      "Wloet eaacdn hne\n",
      "lennahc gnidoc apanek ot emocleW\n",
      "Wloe\n"
     ]
    }
   ],
   "source": [
    "# item string dengan melangkahi atau frekuensi\n",
    "print(welcome[::1])\n",
    "print(welcome[::2])\n",
    "print(welcome[::-1])\n",
    "print(welcome[:7:2])"
   ]
  },
  {
   "cell_type": "markdown",
   "metadata": {},
   "source": [
    "## String Concatenation\n",
    "* Menggunakan + untuk menconcat string\n",
    "* Juga dapat menggunakan * untuk melakukan multiply string\n"
   ]
  },
  {
   "cell_type": "code",
   "execution_count": 27,
   "metadata": {},
   "outputs": [
    {
     "name": "stdout",
     "output_type": "stream",
     "text": [
      "Perkenalkan nama saya Ranggo Pato saya seorang programmer\n"
     ]
    }
   ],
   "source": [
    "s1 = \"Perkenalkan nama saya \"\n",
    "s2 = \"Ranggo Pato\"\n",
    "s3 = s1 + s2 + \" saya seorang programmer\"\n",
    "print(s3)"
   ]
  },
  {
   "cell_type": "code",
   "execution_count": 29,
   "metadata": {},
   "outputs": [
    {
     "name": "stdout",
     "output_type": "stream",
     "text": [
      "ayo makan ayo makan ayo makan ayo makan ayo makan \n"
     ]
    }
   ],
   "source": [
    "s = \"ayo makan \" * 5\n",
    "print(s)"
   ]
  },
  {
   "cell_type": "markdown",
   "metadata": {},
   "source": [
    "## Escape Characters"
   ]
  },
  {
   "cell_type": "code",
   "execution_count": 39,
   "metadata": {},
   "outputs": [
    {
     "name": "stdout",
     "output_type": "stream",
     "text": [
      "Hello \n",
      "dunia\n"
     ]
    }
   ],
   "source": [
    "new_line_string = \"Hello \\ndunia\"\n",
    "print(new_line_string)"
   ]
  },
  {
   "cell_type": "code",
   "execution_count": 32,
   "metadata": {},
   "outputs": [
    {
     "name": "stdout",
     "output_type": "stream",
     "text": [
      "Hello \\ndunia\n"
     ]
    }
   ],
   "source": [
    "new_line_string = r\"Hello \\ndunia\"\n",
    "print(new_line_string)"
   ]
  },
  {
   "cell_type": "code",
   "execution_count": 40,
   "metadata": {},
   "outputs": [
    {
     "name": "stdout",
     "output_type": "stream",
     "text": [
      "Hello \tdunia\n"
     ]
    }
   ],
   "source": [
    "tab_string = \"Hello \\tdunia\"\n",
    "print(tab_string)"
   ]
  },
  {
   "cell_type": "code",
   "execution_count": 42,
   "metadata": {},
   "outputs": [
    {
     "name": "stdout",
     "output_type": "stream",
     "text": [
      "Hello 'dunia'\n"
     ]
    }
   ],
   "source": [
    "quote_string = \"Hello \\'dunia\\'\"\n",
    "print(quote_string)"
   ]
  },
  {
   "cell_type": "markdown",
   "metadata": {},
   "source": [
    "## String Methods\n",
    "Sebenarnya ada banyak pengklasifikasian method di dalam string, tetapi pada tutorial ini hanya dibahas bagian yang sering digunakan saja.\n",
    "* Case conversion\n",
    "* Split and join\n",
    "* Find and Replace\n"
   ]
  },
  {
   "cell_type": "code",
   "execution_count": 44,
   "metadata": {},
   "outputs": [
    {
     "name": "stdout",
     "output_type": "stream",
     "text": [
      "WELCOME TO KENAPA CODING CHANNEL\n",
      "welcome to kenapa coding channel\n",
      "Welcome to kenapa coding channel\n",
      "Welcome To Kenapa Coding Channel\n",
      "WELCOME TO KENAPa CODInG CHANNEL\n"
     ]
    }
   ],
   "source": [
    "# Case conversion\n",
    "\n",
    "print(\"welcome to kenapA codiNg channel\".upper())\n",
    "print(\"welcome to kenapA codiNg channel\".lower())\n",
    "print(\"welcome to kenapA codiNg channel\".capitalize())\n",
    "print(\"welcome to kenapA codiNg channel\".title())\n",
    "print(\"welcome to kenapA codiNg channel\".swapcase())"
   ]
  },
  {
   "cell_type": "code",
   "execution_count": 51,
   "metadata": {},
   "outputs": [
    {
     "name": "stdout",
     "output_type": "stream",
     "text": [
      "s ['w', 'lcom', ' to k', 'napA codiNg chann', 'l']\n",
      "s2 ['w', 'lcom', ' to kenapA codiNg channel']\n"
     ]
    }
   ],
   "source": [
    "# Split string methods\n",
    "s = \"welcome to kenapA codiNg channel\".split('e')\n",
    "s2 = \"welcome to kenapA codiNg channel\".split('e', 2)\n",
    "print('s',s)\n",
    "print('s2',s2)"
   ]
  },
  {
   "cell_type": "code",
   "execution_count": 54,
   "metadata": {},
   "outputs": [
    {
     "name": "stdout",
     "output_type": "stream",
     "text": [
      "wtestlcomtest to ktestnapA codiNg channtestl\n"
     ]
    }
   ],
   "source": [
    "print('test'.join(s))"
   ]
  },
  {
   "cell_type": "code",
   "execution_count": 64,
   "metadata": {},
   "outputs": [
    {
     "name": "stdout",
     "output_type": "stream",
     "text": [
      "11\n",
      "-1\n",
      "6\n"
     ]
    }
   ],
   "source": [
    "# string.find(sub, mula = 0 akhir = len(string))\n",
    "s = \"welcome to kenapA codiNg channel\"\n",
    "print(s.find('kenapA'))\n",
    "print(s.find('kenapa'))\n",
    "print(s.find('e', 2))\n",
    "\n"
   ]
  },
  {
   "cell_type": "code",
   "execution_count": 67,
   "metadata": {},
   "outputs": [
    {
     "name": "stdout",
     "output_type": "stream",
     "text": [
      "wOlcomO to kOnapA codiNg channOl\n",
      "wOlcomO to kenapA codiNg channel\n"
     ]
    }
   ],
   "source": [
    "# string.replace(old, new, max)\n",
    "\n",
    "s = \"welcome to kenapA codiNg channel\"\n",
    "print(s.replace('e', 'O'))\n",
    "print(s.replace('e', 'O', 2))"
   ]
  },
  {
   "cell_type": "markdown",
   "metadata": {},
   "source": [
    "## Print Formatting di String"
   ]
  },
  {
   "cell_type": "code",
   "execution_count": 71,
   "metadata": {},
   "outputs": [
    {
     "data": {
      "text/plain": [
       "'Insert string ke kurung kurawal: string'"
      ]
     },
     "execution_count": 71,
     "metadata": {},
     "output_type": "execute_result"
    }
   ],
   "source": [
    "#menggunakan .format untuk melakukan insert\n",
    "'Insert string ke kurung kurawal: {}'.format('string')"
   ]
  },
  {
   "cell_type": "code",
   "execution_count": 70,
   "metadata": {},
   "outputs": [
    {
     "name": "stdout",
     "output_type": "stream",
     "text": [
      "my name is ranggo and my age is 23 years\n"
     ]
    }
   ],
   "source": [
    "# menggunakan % (%s - untuk string, %d - untuk float/int)\n",
    "print(\"nama saya adalah %s saya berumur %d tahun\" % ('ranggo', 23))"
   ]
  },
  {
   "cell_type": "code",
   "execution_count": 72,
   "metadata": {},
   "outputs": [
    {
     "name": "stdout",
     "output_type": "stream",
     "text": [
      "nama saya adalah ranggo saya berumur 25 tahun\n"
     ]
    }
   ],
   "source": [
    "#menggunakan f untuk formatting\n",
    "name = 'ranggo'; age = 25\n",
    "print(f'nama saya adalah {name} saya berumur {age} tahun')"
   ]
  },
  {
   "cell_type": "code",
   "execution_count": null,
   "metadata": {},
   "outputs": [],
   "source": []
  }
 ],
 "metadata": {
  "kernelspec": {
   "display_name": "Python 3",
   "language": "python",
   "name": "python3"
  },
  "language_info": {
   "codemirror_mode": {
    "name": "ipython",
    "version": 3
   },
   "file_extension": ".py",
   "mimetype": "text/x-python",
   "name": "python",
   "nbconvert_exporter": "python",
   "pygments_lexer": "ipython3",
   "version": "3.11.0"
  }
 },
 "nbformat": 4,
 "nbformat_minor": 2
}
