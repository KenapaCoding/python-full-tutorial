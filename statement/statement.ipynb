{
  "cells": [
    {
      "cell_type": "markdown",
      "metadata": {
        "id": "FQmo-gLCi1wD"
      },
      "source": [
        "# STATEMENT"
      ]
    },
    {
      "cell_type": "markdown",
      "metadata": {
        "id": "zqdn2vvvi1wE"
      },
      "source": [
        "## Introduction to Statement in python\n",
        "* Perbedaan paling mendasar dari statement di python adalah bentuk sintax nya karena tidak menggunakan ( ) sebagai check kondisi\n",
        "dan { } sebagai running kondisi. Tetapi dengan menggunakan indentation."
      ]
    },
    {
      "cell_type": "markdown",
      "metadata": {
        "id": "Gsg0hmIci1wE"
      },
      "source": [
        "## If, elif, else Statements"
      ]
    },
    {
      "cell_type": "code",
      "execution_count": null,
      "metadata": {
        "colab": {
          "base_uri": "https://localhost:8080/"
        },
        "id": "1UCkaJd4i3kn",
        "outputId": "c6f8e2ec-4520-49b7-d357-1f52282447fb"
      },
      "outputs": [
        {
          "name": "stdout",
          "output_type": "stream",
          "text": [
            "Selamat menikmati kehidupan\n"
          ]
        }
      ],
      "source": [
        "nama = \"Sukijan\"\n",
        "usia = 26\n",
        "pekerjaan = \"teknisi\"\n",
        "\n",
        "if usia > 24 and pekerjaan == \"pengangguran\":\n",
        "    print(f'{nama} segera cari kerja, jangan jadi beban keluarga')\n",
        "else:\n",
        "    print('Selamat menikmati kehidupan')"
      ]
    },
    {
      "cell_type": "code",
      "execution_count": null,
      "metadata": {
        "colab": {
          "base_uri": "https://localhost:8080/"
        },
        "id": "-8beRMPRj_SI",
        "outputId": "1416e7fe-e1a0-4347-c1f6-889f23a47852"
      },
      "outputs": [
        {
          "name": "stdout",
          "output_type": "stream",
          "text": [
            "semangat mencari pekerjaan Sukijan, kamu pasti berhasil\n"
          ]
        }
      ],
      "source": [
        "nama = \"Sukijan\"\n",
        "usia = 23\n",
        "pekerjaan = \"pengangguran\"\n",
        "\n",
        "if usia > 24 and pekerjaan == \"pengangguran\":\n",
        "    print(f'{nama} segera cari kerja, jangan jadi beban keluarga')\n",
        "elif usia < 24 and pekerjaan == \"pengangguran\":\n",
        "    print(f'semangat mencari pekerjaan {nama}, kamu pasti berhasil')\n",
        "elif usia > 24 and pekerjaan != \"pengangguran\":\n",
        "    print(f'{nama} , semoga anda mencintai perkejaan anda, bekerjalah sepenuh hati')\n",
        "else:\n",
        "    print('Selamat menikmati kehidupan')"
      ]
    },
    {
      "cell_type": "markdown",
      "metadata": {
        "id": "JhHz3OFilaeL"
      },
      "source": [
        "#### Latihan if elif else\n",
        "\n",
        "* Buat lah kondisi seseorang yang pergi sekolah membawa payung ketika hujan\n",
        "* Tidak pergi sekolah jika hujan badai\n",
        "* pergi sekolah tanpa payung jika cuaca cerah"
      ]
    },
    {
      "cell_type": "code",
      "execution_count": null,
      "metadata": {
        "colab": {
          "base_uri": "https://localhost:8080/"
        },
        "id": "0AeMdKLalLgY",
        "outputId": "0df5df1e-4f68-434e-b8cd-2c639c7ec4ae"
      },
      "outputs": [
        {
          "name": "stdout",
          "output_type": "stream",
          "text": [
            "ranggo tidak pergi ke sekolah\n"
          ]
        }
      ],
      "source": [
        "nama = \"ranggo\"\n",
        "hujan = True\n",
        "hujan_badai = True\n",
        "\n",
        "if hujan and hujan_badai :\n",
        "  print(f'{nama} tidak pergi ke sekolah')\n",
        "elif hujan:\n",
        "  print(f'{nama} pergi ke sekolah menggunakan payung')\n",
        "else :\n",
        "  print(f'{nama} pergi ke sekolah')"
      ]
    },
    {
      "cell_type": "markdown",
      "metadata": {
        "id": "GQdJ_3sHi1wE"
      },
      "source": [
        "## for Loops"
      ]
    },
    {
      "cell_type": "code",
      "execution_count": null,
      "metadata": {
        "colab": {
          "base_uri": "https://localhost:8080/"
        },
        "id": "lbSit2WJLpfS",
        "outputId": "3995e792-596b-4ce9-d732-90a3dcfad3ff"
      },
      "outputs": [
        {
          "name": "stdout",
          "output_type": "stream",
          "text": [
            "1\n",
            "2\n",
            "3\n",
            "4\n",
            "5\n",
            "6\n",
            "7\n",
            "8\n",
            "9\n",
            "10\n"
          ]
        }
      ],
      "source": [
        "# for loops di list\n",
        "l = [1,2,3,4,5,6,7,8,9,10]\n",
        "\n",
        "for num in l:\n",
        "  print(num)"
      ]
    },
    {
      "cell_type": "code",
      "execution_count": null,
      "metadata": {
        "colab": {
          "base_uri": "https://localhost:8080/"
        },
        "id": "8NVyKPxKM1n2",
        "outputId": "bf7400ef-adbf-4296-f1ef-48b607b5ebf8"
      },
      "outputs": [
        {
          "name": "stdout",
          "output_type": "stream",
          "text": [
            "iterasi selesai jumlah total item numbers adalah 15\n",
            "looping selesai\n"
          ]
        }
      ],
      "source": [
        "numbers = [1,2,3,4,5]\n",
        "total = 0\n",
        "for numb in numbers:\n",
        "  total += numb\n",
        "else:\n",
        "  print(f'iterasi selesai jumlah total item numbers adalah {total}')\n",
        "print(\"looping selesai\")\n"
      ]
    },
    {
      "cell_type": "code",
      "execution_count": null,
      "metadata": {
        "colab": {
          "base_uri": "https://localhost:8080/"
        },
        "id": "EhMEwqZgWTr5",
        "outputId": "31e0e998-cb5b-4380-c057-3431bc5d2c38"
      },
      "outputs": [
        {
          "name": "stdout",
          "output_type": "stream",
          "text": [
            "1 merupakan bilangan ganjil\n",
            "7 merupakan bilangan ganjil\n",
            "13 merupakan bilangan ganjil\n",
            "14 merupakan bilangan genap\n",
            "5 merupakan bilangan ganjil\n",
            "6 merupakan bilangan genap\n",
            "7 merupakan bilangan ganjil\n",
            "8 merupakan bilangan genap\n",
            "9 merupakan bilangan ganjil\n",
            "10 merupakan bilangan genap\n"
          ]
        }
      ],
      "source": [
        "l = [1,7,13,14,5,6,7,8,9,10]\n",
        "\n",
        "for num in l:\n",
        "  if num%2 == 1 :\n",
        "    print(f'{num} merupakan bilangan ganjil')\n",
        "  else:\n",
        "    print(f'{num} merupakan bilangan genap')"
      ]
    },
    {
      "cell_type": "code",
      "execution_count": null,
      "metadata": {
        "colab": {
          "base_uri": "https://localhost:8080/"
        },
        "id": "fsRadb59NKfE",
        "outputId": "b7c88498-585f-474a-c700-801cd0f7a9b9"
      },
      "outputs": [
        {
          "name": "stdout",
          "output_type": "stream",
          "text": [
            "1\n",
            "Ikan Bakar\n",
            "2\n",
            "Ayam Balado\n",
            "3\n",
            "Rendang\n",
            "4\n",
            "Buryam\n"
          ]
        }
      ],
      "source": [
        "# for loops di dictionary\n",
        "d = {1:\"Ikan Bakar\", 2:\"Ayam Balado\", 3:\"Rendang\", 4:\"Buryam\"}\n",
        "for key in d:\n",
        "  print(key)\n",
        "  print(d[key])\n"
      ]
    },
    {
      "cell_type": "code",
      "execution_count": null,
      "metadata": {
        "colab": {
          "base_uri": "https://localhost:8080/"
        },
        "id": "S4wOj6fKWsOf",
        "outputId": "ac1d54fb-5198-40f0-afe9-8adedaacd487"
      },
      "outputs": [
        {
          "data": {
            "text/plain": [
              "dict_items([(1, 'Ikan Bakar'), (2, 'Ayam Balado'), (3, 'Rendang'), (4, 'Buryam')])"
            ]
          },
          "execution_count": 10,
          "metadata": {},
          "output_type": "execute_result"
        }
      ],
      "source": [
        "d = {1:\"Ikan Bakar\", 2:\"Ayam Balado\", 3:\"Rendang\", 4:\"Buryam\"}\n",
        "d.items()"
      ]
    },
    {
      "cell_type": "code",
      "execution_count": null,
      "metadata": {
        "colab": {
          "base_uri": "https://localhost:8080/"
        },
        "id": "CySEfuhNW1WA",
        "outputId": "5f5b8c55-113a-47e6-c5e3-ecbfd5462e4c"
      },
      "outputs": [
        {
          "name": "stdout",
          "output_type": "stream",
          "text": [
            "(1, 'Ikan Bakar')\n",
            "(2, 'Ayam Balado')\n",
            "(3, 'Rendang')\n",
            "(4, 'Buryam')\n"
          ]
        }
      ],
      "source": [
        "for x in d.items():\n",
        "  print(x)"
      ]
    },
    {
      "cell_type": "code",
      "execution_count": null,
      "metadata": {
        "colab": {
          "base_uri": "https://localhost:8080/"
        },
        "id": "ppoLwOVnqAt7",
        "outputId": "0f551a1c-89d5-453a-bb62-46ce0fba4b18"
      },
      "outputs": [
        {
          "name": "stdout",
          "output_type": "stream",
          "text": [
            "1\n",
            "Ikan Bakar\n",
            "2\n",
            "Ayam Balado\n",
            "3\n",
            "Rendang\n",
            "4\n",
            "Buryam\n"
          ]
        }
      ],
      "source": [
        "d = {1:\"Ikan Bakar\", 2:\"Ayam Balado\", 3:\"Rendang\", 4:\"Buryam\"}\n",
        "for key,val in d.items():\n",
        "  print(key)\n",
        "  print(val)"
      ]
    },
    {
      "cell_type": "code",
      "execution_count": null,
      "metadata": {
        "colab": {
          "base_uri": "https://localhost:8080/"
        },
        "id": "JR0F4fjAXGjR",
        "outputId": "b17122c6-fbb8-4587-b4b4-fa627797bc55"
      },
      "outputs": [
        {
          "name": "stdout",
          "output_type": "stream",
          "text": [
            "apple\n",
            "banana\n",
            "cherry\n"
          ]
        }
      ],
      "source": [
        "# loop di tuples\n",
        "fruits = (\"apple\", \"banana\", \"cherry\")\n",
        "for fruit in fruits:\n",
        "  print(fruit)"
      ]
    },
    {
      "cell_type": "code",
      "execution_count": null,
      "metadata": {
        "colab": {
          "base_uri": "https://localhost:8080/"
        },
        "id": "XU0KISZfc6-J",
        "outputId": "fb8d864a-d61b-4452-fd5b-065543ccdfd9"
      },
      "outputs": [
        {
          "name": "stdout",
          "output_type": "stream",
          "text": [
            "e\n",
            "o\n",
            "e\n",
            "o\n",
            "e\n",
            "a\n",
            "a\n",
            "o\n",
            "i\n"
          ]
        }
      ],
      "source": [
        "# loop di strings\n",
        "words = \"welcome to kenapa coding\"\n",
        "for word in words:\n",
        "  if word in \"aiueo\":\n",
        "    print(word)"
      ]
    },
    {
      "cell_type": "code",
      "execution_count": null,
      "metadata": {
        "colab": {
          "base_uri": "https://localhost:8080/"
        },
        "id": "sztZ9CCDdm1_",
        "outputId": "e6645806-b49a-40de-bb95-430a64b84d7e"
      },
      "outputs": [
        {
          "name": "stdout",
          "output_type": "stream",
          "text": [
            "apple\n",
            "cherry\n",
            "banana\n"
          ]
        }
      ],
      "source": [
        "# loop di sets\n",
        "fruits = {\"apple\", \"banana\", \"cherry\", \"cherry\"}\n",
        "for fruit in fruits:\n",
        "  print(fruit)"
      ]
    },
    {
      "cell_type": "markdown",
      "metadata": {
        "id": "reYFcLOWi1wF"
      },
      "source": [
        "## while Loops"
      ]
    },
    {
      "cell_type": "code",
      "execution_count": null,
      "metadata": {
        "colab": {
          "base_uri": "https://localhost:8080/"
        },
        "id": "Gp0uoJPQdiEc",
        "outputId": "c463c4e4-2728-4ae0-cbe4-6f51852fa563"
      },
      "outputs": [
        {
          "name": "stdout",
          "output_type": "stream",
          "text": [
            "i is still less then 5, 0\n",
            "i is still less then 5, 1\n",
            "i is still less then 5, 2\n",
            "i is still less then 5, 3\n",
            "i is still less then 5, 4\n"
          ]
        }
      ],
      "source": [
        "i = 0\n",
        "while i < 5:\n",
        "  print(f'i is still less then 5, {i}')\n",
        "  i+=1\n"
      ]
    },
    {
      "cell_type": "code",
      "execution_count": null,
      "metadata": {
        "id": "dwhlD39tfJ8d"
      },
      "outputs": [],
      "source": [
        "var = ''\n",
        "while var != 'y' and var != 'n':\n",
        "  var = input(\"Are you happy ? aswer y/n :\").lower()\n",
        "  if var != 'y' and var != 'n':\n",
        "    print('please aswer y / n ')\n",
        "  elif var == 'n':\n",
        "    print('You should be happy my friend')\n",
        "  else:\n",
        "    print(\"Ok, now you should love your self too\")"
      ]
    },
    {
      "cell_type": "markdown",
      "metadata": {
        "id": "qTuti76hi1wF"
      },
      "source": [
        "## match Case"
      ]
    },
    {
      "cell_type": "code",
      "execution_count": null,
      "metadata": {
        "colab": {
          "base_uri": "https://localhost:8080/"
        },
        "id": "IR1lga3YqzfB",
        "outputId": "e55a7cb0-f35a-467d-88f8-f08a369c6bbb"
      },
      "outputs": [
        {
          "name": "stdout",
          "output_type": "stream",
          "text": [
            "access perpustakan SMA 77 konoha, tulis profesi anda -: tu\n",
            "Anda memiliki akses ke lantai 1,2 dan 3\n"
          ]
        }
      ],
      "source": [
        "profesi = input(\"access perpustakan SMA 77 konoha, tulis profesi anda -: \").lower()\n",
        "match profesi:\n",
        "   case \"tu\":\n",
        "            print(\"Anda memiliki akses ke lantai 1,2 dan 3\")\n",
        "   case \"guru\":\n",
        "            print(\"Anda hanya memiliki akses ke lantai 1 dan 2\")\n",
        "   case \"murid\":\n",
        "            print(\"Siswa/i hanya boleh berada di lantai 1\")\n",
        "   case _:\n",
        "            print(\"Selain petugas dan murid dilarang masuk\")"
      ]
    },
    {
      "cell_type": "markdown",
      "metadata": {
        "id": "UTzSnUNYi1wF"
      },
      "source": [
        "## break, continue, pass"
      ]
    },
    {
      "cell_type": "code",
      "execution_count": null,
      "metadata": {
        "colab": {
          "base_uri": "https://localhost:8080/"
        },
        "id": "21l1PI8QtYks",
        "outputId": "fbc7c6b2-4702-4417-f9b7-070c163b723e"
      },
      "outputs": [
        {
          "name": "stdout",
          "output_type": "stream",
          "text": [
            "1\n",
            "2\n",
            "3\n"
          ]
        }
      ],
      "source": [
        "# contoh break statement\n",
        "\n",
        "for i in [1,2,3,4,5,6,7,8,9,10]:\n",
        "    if i == 4:\n",
        "        break\n",
        "    print(i)"
      ]
    },
    {
      "cell_type": "code",
      "execution_count": null,
      "metadata": {
        "colab": {
          "base_uri": "https://localhost:8080/"
        },
        "id": "kC_GvEwrtYhw",
        "outputId": "d77f6b1b-e452-460b-95f2-de0b36e9c76f"
      },
      "outputs": [
        {
          "name": "stdout",
          "output_type": "stream",
          "text": [
            "total nilai sekarang adalah 0\n",
            "total nilai sekarang adalah 1\n",
            "total nilai sekarang adalah 2\n",
            "total nilai sekarang adalah 3\n",
            "total nilai sekarang adalah 4\n",
            "total nilai sekarang adalah 5\n",
            "total nilai sekarang adalah 6\n",
            "total nilai sekarang adalah 7\n",
            "total nilai sekarang adalah 8\n",
            "total nilai sekarang adalah 9\n",
            "total nilai sekarang adalah 10\n",
            "total nilai sekarang adalah 11\n",
            "total nilai sekarang adalah 12\n",
            "total nilai sekarang adalah 13\n",
            "total nilai sekarang adalah 14\n"
          ]
        }
      ],
      "source": [
        "total = 0\n",
        "while total < 20:\n",
        "  if total * total > 200:\n",
        "    break\n",
        "  print(f'total nilai sekarang adalah {total}')\n",
        "  total += 1"
      ]
    },
    {
      "cell_type": "code",
      "execution_count": null,
      "metadata": {
        "colab": {
          "base_uri": "https://localhost:8080/"
        },
        "id": "PoW9VjSOtYe9",
        "outputId": "78526309-bcf6-4ff6-fdaa-e85264e4ec3b"
      },
      "outputs": [
        {
          "name": "stdout",
          "output_type": "stream",
          "text": [
            "1\n",
            "square 1 adalah 1\n",
            "2\n",
            "square 2 adalah 4\n",
            "3\n",
            "square 3 adalah 9\n",
            "5\n",
            "square 5 adalah 25\n",
            "6\n",
            "square 6 adalah 36\n",
            "8\n",
            "square 8 adalah 64\n",
            "9\n",
            "square 9 adalah 81\n",
            "10\n",
            "square 10 adalah 100\n"
          ]
        }
      ],
      "source": [
        "# contoh continue statement\n",
        "for i in [1,2,3,4,5,6,7,8,9,10]:\n",
        "    if i == 4:\n",
        "        continue\n",
        "    elif i == 7:\n",
        "        continue\n",
        "    print(i)\n",
        "    print(f'square {i} adalah {i*i}')"
      ]
    },
    {
      "cell_type": "code",
      "execution_count": null,
      "metadata": {
        "colab": {
          "base_uri": "https://localhost:8080/"
        },
        "id": "t9NeqGjJu-ZJ",
        "outputId": "7105aace-6bb5-45b3-be27-268c5dfd48d7"
      },
      "outputs": [
        {
          "name": "stdout",
          "output_type": "stream",
          "text": [
            "1\n",
            "square i adalah : 1\n",
            "2\n",
            "square i adalah : 4\n",
            "3\n",
            "square i adalah : 9\n",
            "square i adalah : 16\n",
            "5\n",
            "square i adalah : 25\n",
            "6\n",
            "square i adalah : 36\n",
            "7\n",
            "square i adalah : 49\n",
            "8\n",
            "square i adalah : 64\n",
            "9\n",
            "square i adalah : 81\n",
            "10\n",
            "square i adalah : 100\n"
          ]
        }
      ],
      "source": [
        "# contoh pass statement\n",
        "for i in [1,2,3,4,5,6,7,8,9,10]:\n",
        "    if i == 4:\n",
        "      pass\n",
        "    else:\n",
        "      print(i)\n",
        "    print(f'square i adalah : {i*i}')"
      ]
    },
    {
      "cell_type": "markdown",
      "metadata": {
        "id": "wxePrsq1i1wF"
      },
      "source": [
        "## usefull operator\n",
        "* Range\n",
        "* Enumerate\n",
        "* Zip\n",
        "* In\n",
        "* Not in\n",
        "* Min\n",
        "* Max\n",
        "* Random\n",
        "* Input"
      ]
    },
    {
      "cell_type": "markdown",
      "metadata": {
        "id": "k-cnuFHbKVWb"
      },
      "source": [
        "\n",
        " range biasa digunakan untuk memudahkan membuat list integer, range(start,stop,step)\n",
        "\n"
      ]
    },
    {
      "cell_type": "code",
      "execution_count": null,
      "metadata": {
        "colab": {
          "base_uri": "https://localhost:8080/"
        },
        "id": "8DX3i_OcKcEE",
        "outputId": "9239831d-4119-4d67-ac51-c0bd8713c1b1"
      },
      "outputs": [
        {
          "data": {
            "text/plain": [
              "range(0, 11)"
            ]
          },
          "execution_count": 38,
          "metadata": {},
          "output_type": "execute_result"
        }
      ],
      "source": [
        "range(0,11)"
      ]
    },
    {
      "cell_type": "code",
      "execution_count": null,
      "metadata": {
        "colab": {
          "base_uri": "https://localhost:8080/"
        },
        "id": "2-YgzTYLKOO2",
        "outputId": "e35598a1-a0fb-47b9-80b6-05af93a6f39a"
      },
      "outputs": [
        {
          "data": {
            "text/plain": [
              "[0, 1, 2, 3, 4, 5, 6, 7, 8, 9, 10]"
            ]
          },
          "execution_count": 39,
          "metadata": {},
          "output_type": "execute_result"
        }
      ],
      "source": [
        "list(range(0,11))"
      ]
    },
    {
      "cell_type": "code",
      "execution_count": null,
      "metadata": {
        "colab": {
          "base_uri": "https://localhost:8080/"
        },
        "id": "Kjqh63H-KLKV",
        "outputId": "bf08d8d9-a2f9-423d-dcb5-8966415e1be7"
      },
      "outputs": [
        {
          "data": {
            "text/plain": [
              "[0, 2, 4, 6, 8, 10]"
            ]
          },
          "execution_count": 40,
          "metadata": {},
          "output_type": "execute_result"
        }
      ],
      "source": [
        "list(range(0,11,2))"
      ]
    },
    {
      "cell_type": "markdown",
      "metadata": {
        "id": "KIr-2M_KKlJB"
      },
      "source": [
        "Enumerate biasa digunakan di loops, biasanya untuk melakukan tracking pada loop"
      ]
    },
    {
      "cell_type": "code",
      "execution_count": null,
      "metadata": {
        "id": "EIH4VzebLEBh"
      },
      "outputs": [],
      "source": [
        "l = ['ikan', 'ayam', 'daging', 'rendang', 'dendeng']"
      ]
    },
    {
      "cell_type": "code",
      "execution_count": null,
      "metadata": {
        "colab": {
          "base_uri": "https://localhost:8080/"
        },
        "id": "tHhzZOvuLD1S",
        "outputId": "f1c41a03-86f2-4db5-a1f5-9f23fcf3ae7f"
      },
      "outputs": [
        {
          "name": "stdout",
          "output_type": "stream",
          "text": [
            "ikan\n",
            "ayam\n",
            "daging\n",
            "rendang\n",
            "dendeng\n"
          ]
        }
      ],
      "source": [
        "for val in l :\n",
        "  print(val)"
      ]
    },
    {
      "cell_type": "code",
      "execution_count": null,
      "metadata": {
        "colab": {
          "base_uri": "https://localhost:8080/"
        },
        "id": "tD2fJYZnLDur",
        "outputId": "a6d03bf5-f4f9-46d7-9f92-0a627ccb9660"
      },
      "outputs": [
        {
          "name": "stdout",
          "output_type": "stream",
          "text": [
            "0 ikan\n",
            "1 ayam\n",
            "2 daging\n",
            "3 rendang\n",
            "4 dendeng\n"
          ]
        }
      ],
      "source": [
        "for x,val in enumerate(l):\n",
        "  print(x,val)\n"
      ]
    },
    {
      "cell_type": "code",
      "execution_count": null,
      "metadata": {
        "colab": {
          "base_uri": "https://localhost:8080/"
        },
        "id": "4_EkzathL2wt",
        "outputId": "e0d5dd71-6fe7-4b54-bb5a-288046801988"
      },
      "outputs": [
        {
          "data": {
            "text/plain": [
              "[(0, 'ikan'), (1, 'ayam'), (2, 'daging'), (3, 'rendang'), (4, 'dendeng')]"
            ]
          },
          "execution_count": 12,
          "metadata": {},
          "output_type": "execute_result"
        }
      ],
      "source": [
        "list(enumerate(l))"
      ]
    },
    {
      "cell_type": "code",
      "execution_count": null,
      "metadata": {
        "colab": {
          "base_uri": "https://localhost:8080/"
        },
        "id": "tiuYB61GLhYm",
        "outputId": "8df1ae74-3c6d-406c-e89c-554857a1ddeb"
      },
      "outputs": [
        {
          "name": "stdout",
          "output_type": "stream",
          "text": [
            "7 ikan\n",
            "8 ayam\n",
            "9 daging\n",
            "10 rendang\n",
            "11 dendeng\n"
          ]
        }
      ],
      "source": [
        "for x,val in enumerate(l, start = 7):\n",
        "  print(x,val)"
      ]
    },
    {
      "cell_type": "markdown",
      "metadata": {
        "id": "ibEs8kvFMI-r"
      },
      "source": [
        "Zip biasa digunakan untuk menggabungkan dua list mereturn tuple"
      ]
    },
    {
      "cell_type": "code",
      "execution_count": null,
      "metadata": {
        "id": "zc2dVzIWMJ_9"
      },
      "outputs": [],
      "source": [
        "l1 = [11,2,3,4,5,7]\n",
        "l2 = ['a','b','c','d','e']"
      ]
    },
    {
      "cell_type": "code",
      "execution_count": null,
      "metadata": {
        "colab": {
          "base_uri": "https://localhost:8080/"
        },
        "id": "siV1IdNrMJ7F",
        "outputId": "de17b772-81f0-49b5-f20f-f59ab8050908"
      },
      "outputs": [
        {
          "data": {
            "text/plain": [
              "<zip at 0x7b83ecdee340>"
            ]
          },
          "execution_count": 47,
          "metadata": {},
          "output_type": "execute_result"
        }
      ],
      "source": [
        "zip(l1,l2)"
      ]
    },
    {
      "cell_type": "code",
      "execution_count": null,
      "metadata": {
        "colab": {
          "base_uri": "https://localhost:8080/"
        },
        "id": "qdgnYiCGMmRy",
        "outputId": "6734b875-7767-4eb1-d68b-c147f77865b6"
      },
      "outputs": [
        {
          "data": {
            "text/plain": [
              "[(11, 'a'), (2, 'b'), (3, 'c'), (4, 'd'), (5, 'e')]"
            ]
          },
          "execution_count": 54,
          "metadata": {},
          "output_type": "execute_result"
        }
      ],
      "source": [
        "list(zip(l1,l2))"
      ]
    },
    {
      "cell_type": "code",
      "execution_count": null,
      "metadata": {
        "colab": {
          "base_uri": "https://localhost:8080/"
        },
        "id": "ylSz3nnvMJX2",
        "outputId": "00c61ce8-4599-4dd9-ad7e-0b006bd10536"
      },
      "outputs": [
        {
          "name": "stdout",
          "output_type": "stream",
          "text": [
            "ini item dari l1 : 11\n",
            "ini item dari l2 : a\n",
            "ini item dari l1 : 2\n",
            "ini item dari l2 : b\n",
            "ini item dari l1 : 3\n",
            "ini item dari l2 : c\n",
            "ini item dari l1 : 4\n",
            "ini item dari l2 : d\n",
            "ini item dari l1 : 5\n",
            "ini item dari l2 : e\n"
          ]
        }
      ],
      "source": [
        "for item1, item2 in zip(l1,l2):\n",
        "    print(f'ini item dari l1 : {item1}')\n",
        "    print(f'ini item dari l2 : {item2}')"
      ]
    },
    {
      "cell_type": "markdown",
      "metadata": {
        "id": "EmCtCZBvNNcb"
      },
      "source": [
        "in operator, selain penggunaan in untuk for loop, in juga dapat digunakan untuk mengecek apakah suatu value ada dalam sebuah iterable object(list,string, dll)."
      ]
    },
    {
      "cell_type": "code",
      "execution_count": null,
      "metadata": {
        "colab": {
          "base_uri": "https://localhost:8080/"
        },
        "id": "CblngIn0NId1",
        "outputId": "47f5d6fd-074a-420e-9374-e704b53a7008"
      },
      "outputs": [
        {
          "data": {
            "text/plain": [
              "False"
            ]
          },
          "execution_count": 57,
          "metadata": {},
          "output_type": "execute_result"
        }
      ],
      "source": [
        "'z' in ['a','b','c']"
      ]
    },
    {
      "cell_type": "code",
      "execution_count": null,
      "metadata": {
        "colab": {
          "base_uri": "https://localhost:8080/"
        },
        "id": "Yk7h0Nz8NoIR",
        "outputId": "081136b0-a7a3-4384-84da-ebcba4e75d15"
      },
      "outputs": [
        {
          "data": {
            "text/plain": [
              "False"
            ]
          },
          "execution_count": 59,
          "metadata": {},
          "output_type": "execute_result"
        }
      ],
      "source": [
        "'c' in 'zebra'"
      ]
    },
    {
      "cell_type": "markdown",
      "metadata": {
        "id": "iO7NBrRFN03H"
      },
      "source": [
        "not in operator, digunakan untuk mengecek apakah suatu value tidak ada di dalam object iterable."
      ]
    },
    {
      "cell_type": "code",
      "execution_count": null,
      "metadata": {
        "colab": {
          "base_uri": "https://localhost:8080/"
        },
        "id": "fw503tJ7Nxgc",
        "outputId": "3ff5c8e3-f558-4072-ef71-7683108b6fa2"
      },
      "outputs": [
        {
          "data": {
            "text/plain": [
              "True"
            ]
          },
          "execution_count": 61,
          "metadata": {},
          "output_type": "execute_result"
        }
      ],
      "source": [
        "'t' not in ['a','b','c']"
      ]
    },
    {
      "cell_type": "markdown",
      "metadata": {
        "id": "6vVprUAKOMFb"
      },
      "source": [
        "Min dan Max digunakan untuk mengecek minimum dan maximum dari iterable object"
      ]
    },
    {
      "cell_type": "code",
      "execution_count": null,
      "metadata": {
        "colab": {
          "base_uri": "https://localhost:8080/"
        },
        "id": "7_sMehqrUse_",
        "outputId": "3f29f2b9-1e59-4cf3-c382-d7b166d4e72c"
      },
      "outputs": [
        {
          "name": "stdout",
          "output_type": "stream",
          "text": [
            "0\n"
          ]
        }
      ],
      "source": [
        "l = [7,2,3,5,9]\n",
        "min_val = 0\n",
        "for i in l:\n",
        "  if i < min_val:\n",
        "    min_val = i\n",
        "print(min_val)"
      ]
    },
    {
      "cell_type": "code",
      "execution_count": null,
      "metadata": {
        "colab": {
          "base_uri": "https://localhost:8080/"
        },
        "id": "ImSAl0igOdU0",
        "outputId": "55914b79-880e-4cef-ba25-2e38ac37e18f"
      },
      "outputs": [
        {
          "data": {
            "text/plain": [
              "9"
            ]
          },
          "execution_count": 66,
          "metadata": {},
          "output_type": "execute_result"
        }
      ],
      "source": [
        "l = [7,2,3,5,9]\n",
        "max(l)"
      ]
    },
    {
      "cell_type": "code",
      "execution_count": null,
      "metadata": {
        "colab": {
          "base_uri": "https://localhost:8080/"
        },
        "id": "5PKZR6z0OCyy",
        "outputId": "964ab585-c90f-4f30-d9f7-3298c17c4715"
      },
      "outputs": [
        {
          "data": {
            "text/plain": [
              "2"
            ]
          },
          "execution_count": 65,
          "metadata": {},
          "output_type": "execute_result"
        }
      ],
      "source": [
        "l = (7,2,3,5,9)\n",
        "min(l)"
      ]
    },
    {
      "cell_type": "markdown",
      "metadata": {
        "id": "tQdOGDJUOmBj"
      },
      "source": [
        "random merupakan built in library python yang biasa digunakan untuk mengacak iterable object dan juga bisa memberi nilai random"
      ]
    },
    {
      "cell_type": "code",
      "execution_count": null,
      "metadata": {
        "id": "AptI3tyAOww5"
      },
      "outputs": [],
      "source": [
        "from random import shuffle"
      ]
    },
    {
      "cell_type": "code",
      "execution_count": null,
      "metadata": {
        "colab": {
          "base_uri": "https://localhost:8080/"
        },
        "id": "dT9M165fO_Ex",
        "outputId": "ee9e50f2-9708-4c1c-ec52-6cb503a06463"
      },
      "outputs": [
        {
          "name": "stdout",
          "output_type": "stream",
          "text": [
            "[8, 111, 90, 1, 7, 4, 3, 3, 77]\n"
          ]
        }
      ],
      "source": [
        "l = [1,4,7,8,3,111,3,77,90]\n",
        "shuffle(l)\n",
        "print(l)"
      ]
    },
    {
      "cell_type": "code",
      "execution_count": null,
      "metadata": {
        "id": "-xqY-nNaPQg-"
      },
      "outputs": [],
      "source": [
        "from random import randint"
      ]
    },
    {
      "cell_type": "code",
      "execution_count": null,
      "metadata": {
        "colab": {
          "base_uri": "https://localhost:8080/"
        },
        "id": "qX_ad5IXPTh_",
        "outputId": "e2b70c30-c2a8-4952-8694-af1f8c0e9767"
      },
      "outputs": [
        {
          "data": {
            "text/plain": [
              "50"
            ]
          },
          "execution_count": 76,
          "metadata": {},
          "output_type": "execute_result"
        }
      ],
      "source": [
        "randint(0,55)"
      ]
    },
    {
      "cell_type": "markdown",
      "metadata": {
        "id": "Npwcax6Vi1wF"
      },
      "source": [
        "## List Comprehension\n",
        "* List comprehension berfungsi sebagai penggunaan alternative dalam membuat list dengan menggunakan perulangan atau loop."
      ]
    }
  ],
  "metadata": {
    "colab": {
      "provenance": []
    },
    "kernelspec": {
      "display_name": "Python 3",
      "name": "python3"
    },
    "language_info": {
      "name": "python"
    }
  },
  "nbformat": 4,
  "nbformat_minor": 0
}
